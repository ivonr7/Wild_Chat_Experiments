{
 "cells": [
  {
   "cell_type": "code",
   "execution_count": 1,
   "metadata": {},
   "outputs": [
    {
     "data": {
      "text/html": [
       "<div>\n",
       "<style scoped>\n",
       "    .dataframe tbody tr th:only-of-type {\n",
       "        vertical-align: middle;\n",
       "    }\n",
       "\n",
       "    .dataframe tbody tr th {\n",
       "        vertical-align: top;\n",
       "    }\n",
       "\n",
       "    .dataframe thead th {\n",
       "        text-align: right;\n",
       "    }\n",
       "</style>\n",
       "<table border=\"1\" class=\"dataframe\">\n",
       "  <thead>\n",
       "    <tr style=\"text-align: right;\">\n",
       "      <th></th>\n",
       "      <th>conversation_hash</th>\n",
       "      <th>model</th>\n",
       "      <th>timestamp</th>\n",
       "      <th>conversation</th>\n",
       "      <th>turn</th>\n",
       "      <th>language</th>\n",
       "      <th>openai_moderation</th>\n",
       "      <th>detoxify_moderation</th>\n",
       "      <th>toxic</th>\n",
       "      <th>redacted</th>\n",
       "      <th>state</th>\n",
       "      <th>country</th>\n",
       "      <th>hashed_ip</th>\n",
       "      <th>header</th>\n",
       "    </tr>\n",
       "  </thead>\n",
       "  <tbody>\n",
       "    <tr>\n",
       "      <th>0</th>\n",
       "      <td>698e02bae74e1ca4e941281cbe8ff6c7</td>\n",
       "      <td>gpt-4-0314</td>\n",
       "      <td>2023-04-09 00:01:06</td>\n",
       "      <td>[{'content': 'POUVEZ VOUS ME FAIRE UN PROJET D...</td>\n",
       "      <td>1</td>\n",
       "      <td>French</td>\n",
       "      <td>[{'categories': {'harassment': False, 'harassm...</td>\n",
       "      <td>[{'identity_attack': 0.012024486437439919, 'in...</td>\n",
       "      <td>True</td>\n",
       "      <td>False</td>\n",
       "      <td>Dakar</td>\n",
       "      <td>Senegal</td>\n",
       "      <td>cc4eb1e4234c16afc7f5e3e144ad68387b201449cce400...</td>\n",
       "      <td>{'accept-language': 'fr,fr-FR;q=0.9,en;q=0.8,e...</td>\n",
       "    </tr>\n",
       "    <tr>\n",
       "      <th>1</th>\n",
       "      <td>c9ec5b440fbdd2a269333dd241f32f64</td>\n",
       "      <td>gpt-4-0314</td>\n",
       "      <td>2023-04-09 00:02:53</td>\n",
       "      <td>[{'content': 'Hey there! Are you familiar with...</td>\n",
       "      <td>1</td>\n",
       "      <td>English</td>\n",
       "      <td>[{'categories': {'harassment': False, 'harassm...</td>\n",
       "      <td>[{'identity_attack': 0.00020589135237969458, '...</td>\n",
       "      <td>False</td>\n",
       "      <td>False</td>\n",
       "      <td>Texas</td>\n",
       "      <td>United States</td>\n",
       "      <td>22fd87ba9b98f3d379b23c7b52961f2d4a8505127e58b3...</td>\n",
       "      <td>{'accept-language': 'en-US,en;q=0.9,es;q=0.8',...</td>\n",
       "    </tr>\n",
       "    <tr>\n",
       "      <th>2</th>\n",
       "      <td>34f1581760df304d539e2fe4653b40d3</td>\n",
       "      <td>gpt-4-0314</td>\n",
       "      <td>2023-04-09 00:03:20</td>\n",
       "      <td>[{'content': 'Crea una imagen de una mujer cor...</td>\n",
       "      <td>2</td>\n",
       "      <td>Spanish</td>\n",
       "      <td>[{'categories': {'harassment': False, 'harassm...</td>\n",
       "      <td>[{'identity_attack': 0.007170863449573517, 'in...</td>\n",
       "      <td>False</td>\n",
       "      <td>False</td>\n",
       "      <td>A Coruña</td>\n",
       "      <td>Spain</td>\n",
       "      <td>58369722cd0bdf7fc027a67491ba65b74576df6994c36c...</td>\n",
       "      <td>{'accept-language': 'es-ES,es;q=0.9,en;q=0.8',...</td>\n",
       "    </tr>\n",
       "    <tr>\n",
       "      <th>3</th>\n",
       "      <td>cf1267ca6b2f6fccc9c36652a00059a1</td>\n",
       "      <td>gpt-4-0314</td>\n",
       "      <td>2023-04-09 00:04:52</td>\n",
       "      <td>[{'content': 'Old age PT hx of DM, HTN, dyslip...</td>\n",
       "      <td>1</td>\n",
       "      <td>English</td>\n",
       "      <td>[{'categories': {'harassment': False, 'harassm...</td>\n",
       "      <td>[{'identity_attack': 0.0002258022577734664, 'i...</td>\n",
       "      <td>False</td>\n",
       "      <td>False</td>\n",
       "      <td>Mecca Region</td>\n",
       "      <td>Saudi Arabia</td>\n",
       "      <td>8133108d1c433c180c6be8302dc5a6681f2bec980190a1...</td>\n",
       "      <td>{'accept-language': 'en-US,en;q=0.9', 'user-ag...</td>\n",
       "    </tr>\n",
       "    <tr>\n",
       "      <th>4</th>\n",
       "      <td>72b6aa90f180f51aa1301b42484c9196</td>\n",
       "      <td>gpt-4-0314</td>\n",
       "      <td>2023-04-09 00:06:12</td>\n",
       "      <td>[{'content': 'I want you to act as a contempor...</td>\n",
       "      <td>1</td>\n",
       "      <td>English</td>\n",
       "      <td>[{'categories': {'harassment': False, 'harassm...</td>\n",
       "      <td>[{'identity_attack': 0.0004189222236163914, 'i...</td>\n",
       "      <td>True</td>\n",
       "      <td>False</td>\n",
       "      <td>Kyiv City</td>\n",
       "      <td>Ukraine</td>\n",
       "      <td>f15615c379253246897d474e8d422f2e3e0615b9d6f085...</td>\n",
       "      <td>{'accept-language': 'ru-UA,ru;q=0.9', 'user-ag...</td>\n",
       "    </tr>\n",
       "  </tbody>\n",
       "</table>\n",
       "</div>"
      ],
      "text/plain": [
       "                  conversation_hash       model           timestamp  \\\n",
       "0  698e02bae74e1ca4e941281cbe8ff6c7  gpt-4-0314 2023-04-09 00:01:06   \n",
       "1  c9ec5b440fbdd2a269333dd241f32f64  gpt-4-0314 2023-04-09 00:02:53   \n",
       "2  34f1581760df304d539e2fe4653b40d3  gpt-4-0314 2023-04-09 00:03:20   \n",
       "3  cf1267ca6b2f6fccc9c36652a00059a1  gpt-4-0314 2023-04-09 00:04:52   \n",
       "4  72b6aa90f180f51aa1301b42484c9196  gpt-4-0314 2023-04-09 00:06:12   \n",
       "\n",
       "                                        conversation  turn language  \\\n",
       "0  [{'content': 'POUVEZ VOUS ME FAIRE UN PROJET D...     1   French   \n",
       "1  [{'content': 'Hey there! Are you familiar with...     1  English   \n",
       "2  [{'content': 'Crea una imagen de una mujer cor...     2  Spanish   \n",
       "3  [{'content': 'Old age PT hx of DM, HTN, dyslip...     1  English   \n",
       "4  [{'content': 'I want you to act as a contempor...     1  English   \n",
       "\n",
       "                                   openai_moderation  \\\n",
       "0  [{'categories': {'harassment': False, 'harassm...   \n",
       "1  [{'categories': {'harassment': False, 'harassm...   \n",
       "2  [{'categories': {'harassment': False, 'harassm...   \n",
       "3  [{'categories': {'harassment': False, 'harassm...   \n",
       "4  [{'categories': {'harassment': False, 'harassm...   \n",
       "\n",
       "                                 detoxify_moderation  toxic  redacted  \\\n",
       "0  [{'identity_attack': 0.012024486437439919, 'in...   True     False   \n",
       "1  [{'identity_attack': 0.00020589135237969458, '...  False     False   \n",
       "2  [{'identity_attack': 0.007170863449573517, 'in...  False     False   \n",
       "3  [{'identity_attack': 0.0002258022577734664, 'i...  False     False   \n",
       "4  [{'identity_attack': 0.0004189222236163914, 'i...   True     False   \n",
       "\n",
       "          state        country  \\\n",
       "0         Dakar        Senegal   \n",
       "1         Texas  United States   \n",
       "2      A Coruña          Spain   \n",
       "3  Mecca Region   Saudi Arabia   \n",
       "4     Kyiv City        Ukraine   \n",
       "\n",
       "                                           hashed_ip  \\\n",
       "0  cc4eb1e4234c16afc7f5e3e144ad68387b201449cce400...   \n",
       "1  22fd87ba9b98f3d379b23c7b52961f2d4a8505127e58b3...   \n",
       "2  58369722cd0bdf7fc027a67491ba65b74576df6994c36c...   \n",
       "3  8133108d1c433c180c6be8302dc5a6681f2bec980190a1...   \n",
       "4  f15615c379253246897d474e8d422f2e3e0615b9d6f085...   \n",
       "\n",
       "                                              header  \n",
       "0  {'accept-language': 'fr,fr-FR;q=0.9,en;q=0.8,e...  \n",
       "1  {'accept-language': 'en-US,en;q=0.9,es;q=0.8',...  \n",
       "2  {'accept-language': 'es-ES,es;q=0.9,en;q=0.8',...  \n",
       "3  {'accept-language': 'en-US,en;q=0.9', 'user-ag...  \n",
       "4  {'accept-language': 'ru-UA,ru;q=0.9', 'user-ag...  "
      ]
     },
     "execution_count": 1,
     "metadata": {},
     "output_type": "execute_result"
    }
   ],
   "source": [
    "import pandas as pd\n",
    "from pathlib import Path\n",
    "path = Path('train-00000-of-00019.parquet')\n",
    "df = pd.read_parquet(str(path))\n",
    "df.head()"
   ]
  },
  {
   "cell_type": "markdown",
   "metadata": {},
   "source": [
    "# Basic Stats about the dataset"
   ]
  },
  {
   "cell_type": "code",
   "execution_count": 2,
   "metadata": {},
   "outputs": [
    {
     "name": "stdout",
     "output_type": "stream",
     "text": [
      "Number of conversations: 54726 Over 19 days 08:54:58\n"
     ]
    }
   ],
   "source": [
    "n_chats = df.shape[0]\n",
    "data_range = max(df['timestamp'])-min(df['timestamp'])\n",
    "print(f'Number of conversations: {n_chats}',f'Over {data_range}')"
   ]
  },
  {
   "cell_type": "markdown",
   "metadata": {},
   "source": [
    "# Choose a couple random conversations"
   ]
  },
  {
   "cell_type": "code",
   "execution_count": 3,
   "metadata": {},
   "outputs": [],
   "source": [
    "from random import sample\n",
    "n_samples = 2\n",
    "samples = sample(range(n_chats),k=n_samples)"
   ]
  },
  {
   "cell_type": "markdown",
   "metadata": {},
   "source": [
    "# Explore structure of dataset"
   ]
  },
  {
   "cell_type": "code",
   "execution_count": 4,
   "metadata": {},
   "outputs": [
    {
     "data": {
      "text/plain": [
       "conversation_hash                       ed868a6b8eae6c920430df65e092fcd4\n",
       "model                                                 gpt-3.5-turbo-0301\n",
       "timestamp                                            2023-04-26 18:01:03\n",
       "conversation           [{'content': 'اكتب مقال عن أضرار المياه الغازي...\n",
       "turn                                                                   1\n",
       "language                                                          Arabic\n",
       "openai_moderation      [{'categories': {'harassment': False, 'harassm...\n",
       "detoxify_moderation    [{'identity_attack': 0.005661848932504654, 'in...\n",
       "toxic                                                              False\n",
       "redacted                                                           False\n",
       "state                                                               None\n",
       "country                                                            Egypt\n",
       "hashed_ip              6a2d65767ad45e86f6f03bf8da56067a3c6142c93585a6...\n",
       "header                 {'accept-language': 'en-US,en;q=0.9,ar;q=0.8',...\n",
       "Name: 49123, dtype: object"
      ]
     },
     "execution_count": 4,
     "metadata": {},
     "output_type": "execute_result"
    }
   ],
   "source": [
    "conversations = df.iloc[samples[0]]\n",
    "conversations"
   ]
  },
  {
   "cell_type": "code",
   "execution_count": 5,
   "metadata": {},
   "outputs": [
    {
     "data": {
      "text/plain": [
       "(54319,)"
      ]
     },
     "execution_count": 5,
     "metadata": {},
     "output_type": "execute_result"
    }
   ],
   "source": [
    "import numpy as np\n",
    "np.unique(df['conversation_hash']).shape # if all hashes are distinct"
   ]
  },
  {
   "cell_type": "code",
   "execution_count": 6,
   "metadata": {},
   "outputs": [
    {
     "data": {
      "text/plain": [
       "'Average conversation length 6.400797'"
      ]
     },
     "execution_count": 6,
     "metadata": {},
     "output_type": "execute_result"
    }
   ],
   "source": [
    "f\"Average conversation length {np.average([chat.shape[0] for chat in df['conversation']]):2f}\"\n"
   ]
  },
  {
   "cell_type": "code",
   "execution_count": 7,
   "metadata": {},
   "outputs": [
    {
     "data": {
      "text/plain": [
       "'Max conversation length 114.000000'"
      ]
     },
     "execution_count": 7,
     "metadata": {},
     "output_type": "execute_result"
    }
   ],
   "source": [
    "f\"Max conversation length {np.max([chat.shape[0] for chat in df['conversation']]):2f}\"\n"
   ]
  },
  {
   "cell_type": "code",
   "execution_count": 8,
   "metadata": {},
   "outputs": [
    {
     "data": {
      "text/plain": [
       "'Minimum conversation length 2.000000'"
      ]
     },
     "execution_count": 8,
     "metadata": {},
     "output_type": "execute_result"
    }
   ],
   "source": [
    "f\"Minimum conversation length {np.min([chat.shape[0] for chat in df['conversation']]):2f}\"\n"
   ]
  },
  {
   "cell_type": "code",
   "execution_count": 9,
   "metadata": {},
   "outputs": [
    {
     "data": {
      "text/plain": [
       "'Number of English Chats 27591'"
      ]
     },
     "execution_count": 9,
     "metadata": {},
     "output_type": "execute_result"
    }
   ],
   "source": [
    "f\"Number of English Chats {df[df['language'] == 'English'].shape[0]}\"\n"
   ]
  },
  {
   "cell_type": "code",
   "execution_count": 10,
   "metadata": {},
   "outputs": [],
   "source": [
    "countries = df['country'].dropna()\n",
    "uniques = np.unique(countries).tolist()\n",
    "\n",
    "txt = \"\"\n",
    "with open('countries.txt','w') as f:\n",
    "    for unique in uniques:\n",
    "        txt += f\"{unique}\\n\"\n",
    "    f.write(txt)\n"
   ]
  },
  {
   "cell_type": "markdown",
   "metadata": {},
   "source": [
    "### Explore Sub arrays in data"
   ]
  },
  {
   "cell_type": "code",
   "execution_count": 11,
   "metadata": {},
   "outputs": [
    {
     "name": "stdout",
     "output_type": "stream",
     "text": [
      "(2,)\n",
      "{'content': 'اكتب مقال عن أضرار المياه الغازية', 'country': 'Egypt', 'hashed_ip': '6a2d65767ad45e86f6f03bf8da56067a3c6142c93585a6379cd2925c78794523', 'header': {'accept-language': 'en-US,en;q=0.9,ar;q=0.8', 'user-agent': 'Mozilla/5.0 (Windows NT 10.0; Win64; x64) AppleWebKit/537.36 (KHTML, like Gecko) Chrome/112.0.0.0 Safari/537.36'}, 'language': 'Arabic', 'redacted': False, 'role': 'user', 'state': None, 'timestamp': None, 'toxic': False, 'turn_identifier': 263972}\n"
     ]
    }
   ],
   "source": [
    "chat = conversations['conversation']\n",
    "print(chat.shape)\n",
    "print(chat[0])"
   ]
  },
  {
   "cell_type": "markdown",
   "metadata": {},
   "source": [
    "### moderation"
   ]
  },
  {
   "cell_type": "code",
   "execution_count": 12,
   "metadata": {},
   "outputs": [
    {
     "name": "stdout",
     "output_type": "stream",
     "text": [
      "[{'categories': {'harassment': False, 'harassment/threatening': False, 'harassment_threatening': False, 'hate': False, 'hate/threatening': False, 'hate_threatening': False, 'self-harm': False, 'self-harm/instructions': False, 'self-harm/intent': False, 'self_harm': False, 'self_harm_instructions': False, 'self_harm_intent': False, 'sexual': False, 'sexual/minors': False, 'sexual_minors': False, 'violence': False, 'violence/graphic': False, 'violence_graphic': False}, 'category_scores': {'harassment': 8.569063356844708e-05, 'harassment/threatening': 7.81137259764364e-06, 'harassment_threatening': 7.81137259764364e-06, 'hate': 3.722726250998676e-05, 'hate/threatening': 2.8934604756614135e-07, 'hate_threatening': 2.8934604756614135e-07, 'self-harm': 8.623626490589231e-05, 'self-harm/instructions': 5.724512448068708e-06, 'self-harm/intent': 3.0175119718478527e-06, 'self_harm': 8.623626490589231e-05, 'self_harm_instructions': 5.724512448068708e-06, 'self_harm_intent': 3.0175119718478527e-06, 'sexual': 7.927779734018259e-06, 'sexual/minors': 6.9961479312041774e-06, 'sexual_minors': 6.9961479312041774e-06, 'violence': 3.306156213511713e-05, 'violence/graphic': 2.6339122996432707e-05, 'violence_graphic': 2.6339122996432707e-05}, 'flagged': False}\n",
      " {'categories': {'harassment': False, 'harassment/threatening': False, 'harassment_threatening': False, 'hate': False, 'hate/threatening': False, 'hate_threatening': False, 'self-harm': False, 'self-harm/instructions': False, 'self-harm/intent': False, 'self_harm': False, 'self_harm_instructions': False, 'self_harm_intent': False, 'sexual': False, 'sexual/minors': False, 'sexual_minors': False, 'violence': False, 'violence/graphic': False, 'violence_graphic': False}, 'category_scores': {'harassment': 0.0001190532129839994, 'harassment/threatening': 0.000197792483959347, 'harassment_threatening': 0.000197792483959347, 'hate': 8.552729923394509e-06, 'hate/threatening': 9.75541024672566e-06, 'hate_threatening': 9.75541024672566e-06, 'self-harm': 0.0003462425374891609, 'self-harm/instructions': 4.6638950834676507e-07, 'self-harm/intent': 2.259798520753975e-06, 'self_harm': 0.0003462425374891609, 'self_harm_instructions': 4.6638950834676507e-07, 'self_harm_intent': 2.259798520753975e-06, 'sexual': 1.1000904009961232e-07, 'sexual/minors': 1.0677033657202628e-07, 'sexual_minors': 1.0677033657202628e-07, 'violence': 0.003624754725024104, 'violence/graphic': 0.00041211434290744364, 'violence_graphic': 0.00041211434290744364}, 'flagged': False}]\n",
      "[{'identity_attack': 0.005661848932504654, 'insult': 0.02954641729593277, 'obscene': 0.0338701456785202, 'severe_toxicity': 0.004568120930343866, 'sexual_explicit': 0.0009475174592807889, 'threat': 0.0018166681984439492, 'toxicity': 0.0006087912479415536}\n",
      " {'identity_attack': 0.0067899576388299465, 'insult': 0.037706803530454636, 'obscene': 0.041921183466911316, 'severe_toxicity': 0.006751250475645065, 'sexual_explicit': 0.0011694589629769325, 'threat': 0.0024692064616829157, 'toxicity': 0.0003670445003081113}]\n"
     ]
    }
   ],
   "source": [
    "openai_moderation = conversations['openai_moderation']\n",
    "detoxify_moderation = conversations['detoxify_moderation']\n",
    "\n",
    "print(openai_moderation)\n",
    "print(detoxify_moderation)"
   ]
  },
  {
   "cell_type": "markdown",
   "metadata": {},
   "source": [
    "## Get highest location and time for usage"
   ]
  },
  {
   "cell_type": "code",
   "execution_count": 34,
   "metadata": {},
   "outputs": [
    {
     "data": {
      "text/plain": [
       "country    timestamp          \n",
       "Italy      2023-04-16 16:54:09    57\n",
       "Singapore  2023-04-10 06:43:10    55\n",
       "Russia     2023-04-25 05:10:28    55\n",
       "Canada     2023-04-26 14:08:15    50\n",
       "France     2023-04-14 21:04:00    48\n",
       "Name: turn, dtype: int64"
      ]
     },
     "execution_count": 34,
     "metadata": {},
     "output_type": "execute_result"
    }
   ],
   "source": [
    "\n",
    "locations = df.groupby(['country','timestamp'])['turn'].sum()\n",
    "locations.sort_values(ascending=False).head(5)\n"
   ]
  },
  {
   "cell_type": "markdown",
   "metadata": {},
   "source": [
    "## Day of the week usage"
   ]
  },
  {
   "cell_type": "code",
   "execution_count": 75,
   "metadata": {},
   "outputs": [
    {
     "data": {
      "text/plain": [
       "Text(0.5, 1.0, 'Daily Usage')"
      ]
     },
     "execution_count": 75,
     "metadata": {},
     "output_type": "execute_result"
    },
    {
     "data": {
      "image/png": "[encoded data removed]",
      "text/plain": [
       "<Figure size 640x480 with 1 Axes>"
      ]
     },
     "metadata": {},
     "output_type": "display_data"
    }
   ],
   "source": [
    "import matplotlib.pyplot as plt\n",
    "from datetime import datetime\n",
    "def get_day(index):\n",
    "    return datetime.fromtimestamp(\n",
    "    datetime.timestamp(\n",
    "        df['timestamp'][index]\n",
    "    )\n",
    ").strftime('%A')\n",
    "\n",
    "def get_hour(index):\n",
    "    return datetime.fromtimestamp(\n",
    "        datetime.timestamp(\n",
    "            df['timestamp'][index]\n",
    "        )\n",
    "    ).strftime('%H')\n",
    "\n",
    "days_of_week = df.groupby(get_day)['turn'].sum()\n",
    "days_of_week \n",
    "\n",
    "\n",
    "fig, ax = plt.subplots()\n",
    "ax.bar(days_of_week.index,days_of_week / df['turn'].sum())\n",
    "plt.setp(ax.get_xticklabels(),rotation = 45,ha = 'right', va = 'center', rotation_mode = 'anchor')\n",
    "plt.title(\"Daily Usage\")\n"
   ]
  },
  {
   "cell_type": "code",
   "execution_count": 72,
   "metadata": {},
   "outputs": [
    {
     "data": {
      "text/plain": [
       "Text(0.5, 1.0, 'Worldwide usage by hour')"
      ]
     },
     "execution_count": 72,
     "metadata": {},
     "output_type": "execute_result"
    },
    {
     "data": {
      "image/png": "[encoded data removed]",
      "text/plain": [
       "<Figure size 640x480 with 1 Axes>"
      ]
     },
     "metadata": {},
     "output_type": "display_data"
    }
   ],
   "source": [
    "import matplotlib.pyplot as plt\n",
    "hours = df.groupby(get_hour)['turn'].sum()\n",
    "hours\n",
    "fig, ax = plt.subplots()\n",
    "ax.bar([f\"{hour}:00\" for hour in hours.index],hours / df['turn'].sum())\n",
    "plt.setp(ax.get_xticklabels(),rotation = 45,ha = 'right', va = 'center', rotation_mode = 'anchor')\n",
    "plt.title(\"Worldwide usage by hour\")\n"
   ]
  }
 ],
 "metadata": {
  "kernelspec": {
   "display_name": "cache",
   "language": "python",
   "name": "python3"
  },
  "language_info": {
   "codemirror_mode": {
    "name": "ipython",
    "version": 3
   },
   "file_extension": ".py",
   "mimetype": "text/x-python",
   "name": "python",
   "nbconvert_exporter": "python",
   "pygments_lexer": "ipython3",
   "version": "3.8.19"
  }
 },
 "nbformat": 4,
 "nbformat_minor": 2
}
