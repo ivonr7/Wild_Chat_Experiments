{
 "cells": [
  {
   "cell_type": "markdown",
   "metadata": {},
   "source": [
    "## Read dataframe"
   ]
  },
  {
   "cell_type": "code",
   "execution_count": 2,
   "metadata": {},
   "outputs": [
    {
     "name": "stdout",
     "output_type": "stream",
     "text": [
      "54726\n"
     ]
    },
    {
     "data": {
      "text/html": [
       "<div>\n",
       "<style scoped>\n",
       "    .dataframe tbody tr th:only-of-type {\n",
       "        vertical-align: middle;\n",
       "    }\n",
       "\n",
       "    .dataframe tbody tr th {\n",
       "        vertical-align: top;\n",
       "    }\n",
       "\n",
       "    .dataframe thead th {\n",
       "        text-align: right;\n",
       "    }\n",
       "</style>\n",
       "<table border=\"1\" class=\"dataframe\">\n",
       "  <thead>\n",
       "    <tr style=\"text-align: right;\">\n",
       "      <th></th>\n",
       "      <th>conversation_hash</th>\n",
       "      <th>model</th>\n",
       "      <th>timestamp</th>\n",
       "      <th>conversation</th>\n",
       "      <th>turn</th>\n",
       "      <th>language</th>\n",
       "      <th>openai_moderation</th>\n",
       "      <th>detoxify_moderation</th>\n",
       "      <th>toxic</th>\n",
       "      <th>redacted</th>\n",
       "      <th>state</th>\n",
       "      <th>country</th>\n",
       "      <th>hashed_ip</th>\n",
       "      <th>header</th>\n",
       "    </tr>\n",
       "  </thead>\n",
       "  <tbody>\n",
       "    <tr>\n",
       "      <th>0</th>\n",
       "      <td>698e02bae74e1ca4e941281cbe8ff6c7</td>\n",
       "      <td>gpt-4-0314</td>\n",
       "      <td>2023-04-09 00:01:06</td>\n",
       "      <td>[{'content': 'POUVEZ VOUS ME FAIRE UN PROJET D...</td>\n",
       "      <td>1</td>\n",
       "      <td>French</td>\n",
       "      <td>[{'categories': {'harassment': False, 'harassm...</td>\n",
       "      <td>[{'identity_attack': 0.012024486437439919, 'in...</td>\n",
       "      <td>True</td>\n",
       "      <td>False</td>\n",
       "      <td>Dakar</td>\n",
       "      <td>Senegal</td>\n",
       "      <td>cc4eb1e4234c16afc7f5e3e144ad68387b201449cce400...</td>\n",
       "      <td>{'accept-language': 'fr,fr-FR;q=0.9,en;q=0.8,e...</td>\n",
       "    </tr>\n",
       "    <tr>\n",
       "      <th>1</th>\n",
       "      <td>c9ec5b440fbdd2a269333dd241f32f64</td>\n",
       "      <td>gpt-4-0314</td>\n",
       "      <td>2023-04-09 00:02:53</td>\n",
       "      <td>[{'content': 'Hey there! Are you familiar with...</td>\n",
       "      <td>1</td>\n",
       "      <td>English</td>\n",
       "      <td>[{'categories': {'harassment': False, 'harassm...</td>\n",
       "      <td>[{'identity_attack': 0.00020589135237969458, '...</td>\n",
       "      <td>False</td>\n",
       "      <td>False</td>\n",
       "      <td>Texas</td>\n",
       "      <td>United States</td>\n",
       "      <td>22fd87ba9b98f3d379b23c7b52961f2d4a8505127e58b3...</td>\n",
       "      <td>{'accept-language': 'en-US,en;q=0.9,es;q=0.8',...</td>\n",
       "    </tr>\n",
       "    <tr>\n",
       "      <th>2</th>\n",
       "      <td>34f1581760df304d539e2fe4653b40d3</td>\n",
       "      <td>gpt-4-0314</td>\n",
       "      <td>2023-04-09 00:03:20</td>\n",
       "      <td>[{'content': 'Crea una imagen de una mujer cor...</td>\n",
       "      <td>2</td>\n",
       "      <td>Spanish</td>\n",
       "      <td>[{'categories': {'harassment': False, 'harassm...</td>\n",
       "      <td>[{'identity_attack': 0.007170863449573517, 'in...</td>\n",
       "      <td>False</td>\n",
       "      <td>False</td>\n",
       "      <td>A Coruña</td>\n",
       "      <td>Spain</td>\n",
       "      <td>58369722cd0bdf7fc027a67491ba65b74576df6994c36c...</td>\n",
       "      <td>{'accept-language': 'es-ES,es;q=0.9,en;q=0.8',...</td>\n",
       "    </tr>\n",
       "    <tr>\n",
       "      <th>3</th>\n",
       "      <td>cf1267ca6b2f6fccc9c36652a00059a1</td>\n",
       "      <td>gpt-4-0314</td>\n",
       "      <td>2023-04-09 00:04:52</td>\n",
       "      <td>[{'content': 'Old age PT hx of DM, HTN, dyslip...</td>\n",
       "      <td>1</td>\n",
       "      <td>English</td>\n",
       "      <td>[{'categories': {'harassment': False, 'harassm...</td>\n",
       "      <td>[{'identity_attack': 0.0002258022577734664, 'i...</td>\n",
       "      <td>False</td>\n",
       "      <td>False</td>\n",
       "      <td>Mecca Region</td>\n",
       "      <td>Saudi Arabia</td>\n",
       "      <td>8133108d1c433c180c6be8302dc5a6681f2bec980190a1...</td>\n",
       "      <td>{'accept-language': 'en-US,en;q=0.9', 'user-ag...</td>\n",
       "    </tr>\n",
       "    <tr>\n",
       "      <th>4</th>\n",
       "      <td>72b6aa90f180f51aa1301b42484c9196</td>\n",
       "      <td>gpt-4-0314</td>\n",
       "      <td>2023-04-09 00:06:12</td>\n",
       "      <td>[{'content': 'I want you to act as a contempor...</td>\n",
       "      <td>1</td>\n",
       "      <td>English</td>\n",
       "      <td>[{'categories': {'harassment': False, 'harassm...</td>\n",
       "      <td>[{'identity_attack': 0.0004189222236163914, 'i...</td>\n",
       "      <td>True</td>\n",
       "      <td>False</td>\n",
       "      <td>Kyiv City</td>\n",
       "      <td>Ukraine</td>\n",
       "      <td>f15615c379253246897d474e8d422f2e3e0615b9d6f085...</td>\n",
       "      <td>{'accept-language': 'ru-UA,ru;q=0.9', 'user-ag...</td>\n",
       "    </tr>\n",
       "  </tbody>\n",
       "</table>\n",
       "</div>"
      ],
      "text/plain": [
       "                  conversation_hash       model           timestamp  \\\n",
       "0  698e02bae74e1ca4e941281cbe8ff6c7  gpt-4-0314 2023-04-09 00:01:06   \n",
       "1  c9ec5b440fbdd2a269333dd241f32f64  gpt-4-0314 2023-04-09 00:02:53   \n",
       "2  34f1581760df304d539e2fe4653b40d3  gpt-4-0314 2023-04-09 00:03:20   \n",
       "3  cf1267ca6b2f6fccc9c36652a00059a1  gpt-4-0314 2023-04-09 00:04:52   \n",
       "4  72b6aa90f180f51aa1301b42484c9196  gpt-4-0314 2023-04-09 00:06:12   \n",
       "\n",
       "                                        conversation  turn language  \\\n",
       "0  [{'content': 'POUVEZ VOUS ME FAIRE UN PROJET D...     1   French   \n",
       "1  [{'content': 'Hey there! Are you familiar with...     1  English   \n",
       "2  [{'content': 'Crea una imagen de una mujer cor...     2  Spanish   \n",
       "3  [{'content': 'Old age PT hx of DM, HTN, dyslip...     1  English   \n",
       "4  [{'content': 'I want you to act as a contempor...     1  English   \n",
       "\n",
       "                                   openai_moderation  \\\n",
       "0  [{'categories': {'harassment': False, 'harassm...   \n",
       "1  [{'categories': {'harassment': False, 'harassm...   \n",
       "2  [{'categories': {'harassment': False, 'harassm...   \n",
       "3  [{'categories': {'harassment': False, 'harassm...   \n",
       "4  [{'categories': {'harassment': False, 'harassm...   \n",
       "\n",
       "                                 detoxify_moderation  toxic  redacted  \\\n",
       "0  [{'identity_attack': 0.012024486437439919, 'in...   True     False   \n",
       "1  [{'identity_attack': 0.00020589135237969458, '...  False     False   \n",
       "2  [{'identity_attack': 0.007170863449573517, 'in...  False     False   \n",
       "3  [{'identity_attack': 0.0002258022577734664, 'i...  False     False   \n",
       "4  [{'identity_attack': 0.0004189222236163914, 'i...   True     False   \n",
       "\n",
       "          state        country  \\\n",
       "0         Dakar        Senegal   \n",
       "1         Texas  United States   \n",
       "2      A Coruña          Spain   \n",
       "3  Mecca Region   Saudi Arabia   \n",
       "4     Kyiv City        Ukraine   \n",
       "\n",
       "                                           hashed_ip  \\\n",
       "0  cc4eb1e4234c16afc7f5e3e144ad68387b201449cce400...   \n",
       "1  22fd87ba9b98f3d379b23c7b52961f2d4a8505127e58b3...   \n",
       "2  58369722cd0bdf7fc027a67491ba65b74576df6994c36c...   \n",
       "3  8133108d1c433c180c6be8302dc5a6681f2bec980190a1...   \n",
       "4  f15615c379253246897d474e8d422f2e3e0615b9d6f085...   \n",
       "\n",
       "                                              header  \n",
       "0  {'accept-language': 'fr,fr-FR;q=0.9,en;q=0.8,e...  \n",
       "1  {'accept-language': 'en-US,en;q=0.9,es;q=0.8',...  \n",
       "2  {'accept-language': 'es-ES,es;q=0.9,en;q=0.8',...  \n",
       "3  {'accept-language': 'en-US,en;q=0.9', 'user-ag...  \n",
       "4  {'accept-language': 'ru-UA,ru;q=0.9', 'user-ag...  "
      ]
     },
     "execution_count": 2,
     "metadata": {},
     "output_type": "execute_result"
    }
   ],
   "source": [
    "import pandas as pd \n",
    "df = pd.read_parquet('train-00000-of-00019.parquet')\n",
    "print(df.shape[0])\n",
    "df.head()"
   ]
  },
  {
   "cell_type": "markdown",
   "metadata": {},
   "source": [
    "## Filter Dataset for Chat Length and Language"
   ]
  },
  {
   "cell_type": "code",
   "execution_count": 3,
   "metadata": {},
   "outputs": [
    {
     "name": "stdout",
     "output_type": "stream",
     "text": [
      "25257\n",
      "27135\n",
      "13610\n"
     ]
    },
    {
     "data": {
      "text/html": [
       "<div>\n",
       "<style scoped>\n",
       "    .dataframe tbody tr th:only-of-type {\n",
       "        vertical-align: middle;\n",
       "    }\n",
       "\n",
       "    .dataframe tbody tr th {\n",
       "        vertical-align: top;\n",
       "    }\n",
       "\n",
       "    .dataframe thead th {\n",
       "        text-align: right;\n",
       "    }\n",
       "</style>\n",
       "<table border=\"1\" class=\"dataframe\">\n",
       "  <thead>\n",
       "    <tr style=\"text-align: right;\">\n",
       "      <th></th>\n",
       "      <th>conversation_hash</th>\n",
       "      <th>model</th>\n",
       "      <th>timestamp</th>\n",
       "      <th>conversation</th>\n",
       "      <th>turn</th>\n",
       "      <th>language</th>\n",
       "      <th>openai_moderation</th>\n",
       "      <th>detoxify_moderation</th>\n",
       "      <th>toxic</th>\n",
       "      <th>redacted</th>\n",
       "      <th>state</th>\n",
       "      <th>country</th>\n",
       "      <th>hashed_ip</th>\n",
       "      <th>header</th>\n",
       "    </tr>\n",
       "  </thead>\n",
       "  <tbody>\n",
       "    <tr>\n",
       "      <th>15</th>\n",
       "      <td>58653738f84f20b0480c00cddd8896e2</td>\n",
       "      <td>gpt-4-0314</td>\n",
       "      <td>2023-04-09 00:15:07</td>\n",
       "      <td>[{'content': 'movies 2011', 'country': 'Egypt'...</td>\n",
       "      <td>3</td>\n",
       "      <td>English</td>\n",
       "      <td>[{'categories': {'harassment': False, 'harassm...</td>\n",
       "      <td>[{'identity_attack': 0.0001499351637903601, 'i...</td>\n",
       "      <td>True</td>\n",
       "      <td>False</td>\n",
       "      <td>Giza</td>\n",
       "      <td>Egypt</td>\n",
       "      <td>9ed8a863baabc42b7ee3249039297a374ed89c857af9b7...</td>\n",
       "      <td>{'accept-language': 'ar,en-US;q=0.9,en;q=0.8',...</td>\n",
       "    </tr>\n",
       "    <tr>\n",
       "      <th>22</th>\n",
       "      <td>ff78a5de28e3bb68855f39766f3a2f3e</td>\n",
       "      <td>gpt-3.5-turbo-0301</td>\n",
       "      <td>2023-04-09 00:22:25</td>\n",
       "      <td>[{'content': 'top erotic movies', 'country': '...</td>\n",
       "      <td>2</td>\n",
       "      <td>English</td>\n",
       "      <td>[{'categories': {'harassment': False, 'harassm...</td>\n",
       "      <td>[{'identity_attack': 0.0035461043007671833, 'i...</td>\n",
       "      <td>True</td>\n",
       "      <td>False</td>\n",
       "      <td>Giza</td>\n",
       "      <td>Egypt</td>\n",
       "      <td>9ed8a863baabc42b7ee3249039297a374ed89c857af9b7...</td>\n",
       "      <td>{'accept-language': 'ar,en-US;q=0.9,en;q=0.8',...</td>\n",
       "    </tr>\n",
       "    <tr>\n",
       "      <th>25</th>\n",
       "      <td>aa7c3f49343e097be66442288abd1dac</td>\n",
       "      <td>gpt-4-0314</td>\n",
       "      <td>2023-04-09 00:23:46</td>\n",
       "      <td>[{'content': 'Let A, B, and C be events with\n",
       "\n",
       "...</td>\n",
       "      <td>7</td>\n",
       "      <td>English</td>\n",
       "      <td>[{'categories': {'harassment': False, 'harassm...</td>\n",
       "      <td>[{'identity_attack': 0.00018260271463077515, '...</td>\n",
       "      <td>False</td>\n",
       "      <td>False</td>\n",
       "      <td>Alberta</td>\n",
       "      <td>Canada</td>\n",
       "      <td>e49e258fbabeb7e0916d44b43e30ad77e61026bd8cb07c...</td>\n",
       "      <td>{'accept-language': 'en-US,en;q=0.9', 'user-ag...</td>\n",
       "    </tr>\n",
       "    <tr>\n",
       "      <th>35</th>\n",
       "      <td>aaa6493a85ec987f39fc0f03877791c2</td>\n",
       "      <td>gpt-4-0314</td>\n",
       "      <td>2023-04-09 00:29:34</td>\n",
       "      <td>[{'content': 'Write lines for various GoT char...</td>\n",
       "      <td>5</td>\n",
       "      <td>English</td>\n",
       "      <td>[{'categories': {'harassment': False, 'harassm...</td>\n",
       "      <td>[{'identity_attack': 0.00014161091530695558, '...</td>\n",
       "      <td>True</td>\n",
       "      <td>False</td>\n",
       "      <td>Auckland</td>\n",
       "      <td>New Zealand</td>\n",
       "      <td>0ef4c4d5ec3b79928507e0d82e953f96128b3858650664...</td>\n",
       "      <td>{'accept-language': 'en-GB,en-US;q=0.9,en;q=0....</td>\n",
       "    </tr>\n",
       "    <tr>\n",
       "      <th>37</th>\n",
       "      <td>576e59afd66835b3797517cd1cd8a08b</td>\n",
       "      <td>gpt-4-0314</td>\n",
       "      <td>2023-04-09 00:30:20</td>\n",
       "      <td>[{'content': 'how long does it take to orbit t...</td>\n",
       "      <td>3</td>\n",
       "      <td>English</td>\n",
       "      <td>[{'categories': {'harassment': False, 'harassm...</td>\n",
       "      <td>[{'identity_attack': 0.0001060247013811022, 'i...</td>\n",
       "      <td>False</td>\n",
       "      <td>False</td>\n",
       "      <td>Florida</td>\n",
       "      <td>United States</td>\n",
       "      <td>09e0bc9c473bbbcb360a8ac668b2c90c8ee8b3fc34b6a3...</td>\n",
       "      <td>{'accept-language': 'en-US,en;q=0.9', 'user-ag...</td>\n",
       "    </tr>\n",
       "  </tbody>\n",
       "</table>\n",
       "</div>"
      ],
      "text/plain": [
       "                   conversation_hash               model           timestamp  \\\n",
       "15  58653738f84f20b0480c00cddd8896e2          gpt-4-0314 2023-04-09 00:15:07   \n",
       "22  ff78a5de28e3bb68855f39766f3a2f3e  gpt-3.5-turbo-0301 2023-04-09 00:22:25   \n",
       "25  aa7c3f49343e097be66442288abd1dac          gpt-4-0314 2023-04-09 00:23:46   \n",
       "35  aaa6493a85ec987f39fc0f03877791c2          gpt-4-0314 2023-04-09 00:29:34   \n",
       "37  576e59afd66835b3797517cd1cd8a08b          gpt-4-0314 2023-04-09 00:30:20   \n",
       "\n",
       "                                         conversation  turn language  \\\n",
       "15  [{'content': 'movies 2011', 'country': 'Egypt'...     3  English   \n",
       "22  [{'content': 'top erotic movies', 'country': '...     2  English   \n",
       "25  [{'content': 'Let A, B, and C be events with\n",
       "\n",
       "...     7  English   \n",
       "35  [{'content': 'Write lines for various GoT char...     5  English   \n",
       "37  [{'content': 'how long does it take to orbit t...     3  English   \n",
       "\n",
       "                                    openai_moderation  \\\n",
       "15  [{'categories': {'harassment': False, 'harassm...   \n",
       "22  [{'categories': {'harassment': False, 'harassm...   \n",
       "25  [{'categories': {'harassment': False, 'harassm...   \n",
       "35  [{'categories': {'harassment': False, 'harassm...   \n",
       "37  [{'categories': {'harassment': False, 'harassm...   \n",
       "\n",
       "                                  detoxify_moderation  toxic  redacted  \\\n",
       "15  [{'identity_attack': 0.0001499351637903601, 'i...   True     False   \n",
       "22  [{'identity_attack': 0.0035461043007671833, 'i...   True     False   \n",
       "25  [{'identity_attack': 0.00018260271463077515, '...  False     False   \n",
       "35  [{'identity_attack': 0.00014161091530695558, '...   True     False   \n",
       "37  [{'identity_attack': 0.0001060247013811022, 'i...  False     False   \n",
       "\n",
       "       state        country  \\\n",
       "15      Giza          Egypt   \n",
       "22      Giza          Egypt   \n",
       "25   Alberta         Canada   \n",
       "35  Auckland    New Zealand   \n",
       "37   Florida  United States   \n",
       "\n",
       "                                            hashed_ip  \\\n",
       "15  9ed8a863baabc42b7ee3249039297a374ed89c857af9b7...   \n",
       "22  9ed8a863baabc42b7ee3249039297a374ed89c857af9b7...   \n",
       "25  e49e258fbabeb7e0916d44b43e30ad77e61026bd8cb07c...   \n",
       "35  0ef4c4d5ec3b79928507e0d82e953f96128b3858650664...   \n",
       "37  09e0bc9c473bbbcb360a8ac668b2c90c8ee8b3fc34b6a3...   \n",
       "\n",
       "                                               header  \n",
       "15  {'accept-language': 'ar,en-US;q=0.9,en;q=0.8',...  \n",
       "22  {'accept-language': 'ar,en-US;q=0.9,en;q=0.8',...  \n",
       "25  {'accept-language': 'en-US,en;q=0.9', 'user-ag...  \n",
       "35  {'accept-language': 'en-GB,en-US;q=0.9,en;q=0....  \n",
       "37  {'accept-language': 'en-US,en;q=0.9', 'user-ag...  "
      ]
     },
     "execution_count": 3,
     "metadata": {},
     "output_type": "execute_result"
    }
   ],
   "source": [
    "print(df[df['turn'] == 1].shape[0])\n",
    "print(df[df['language'] != 'English'].shape[0])\n",
    "df = df[(df['language'] == 'English') & (df['turn'] > 1)].reindex()\n",
    "print(df.shape[0])\n",
    "df.head()\n"
   ]
  },
  {
   "cell_type": "markdown",
   "metadata": {},
   "source": [
    "## Choose random chats"
   ]
  },
  {
   "cell_type": "code",
   "execution_count": 4,
   "metadata": {},
   "outputs": [
    {
     "data": {
      "text/html": [
       "<div>\n",
       "<style scoped>\n",
       "    .dataframe tbody tr th:only-of-type {\n",
       "        vertical-align: middle;\n",
       "    }\n",
       "\n",
       "    .dataframe tbody tr th {\n",
       "        vertical-align: top;\n",
       "    }\n",
       "\n",
       "    .dataframe thead th {\n",
       "        text-align: right;\n",
       "    }\n",
       "</style>\n",
       "<table border=\"1\" class=\"dataframe\">\n",
       "  <thead>\n",
       "    <tr style=\"text-align: right;\">\n",
       "      <th></th>\n",
       "      <th>conversation_hash</th>\n",
       "      <th>model</th>\n",
       "      <th>timestamp</th>\n",
       "      <th>conversation</th>\n",
       "      <th>turn</th>\n",
       "      <th>language</th>\n",
       "      <th>openai_moderation</th>\n",
       "      <th>detoxify_moderation</th>\n",
       "      <th>toxic</th>\n",
       "      <th>redacted</th>\n",
       "      <th>state</th>\n",
       "      <th>country</th>\n",
       "      <th>hashed_ip</th>\n",
       "      <th>header</th>\n",
       "    </tr>\n",
       "  </thead>\n",
       "  <tbody>\n",
       "    <tr>\n",
       "      <th>253</th>\n",
       "      <td>7e027908ee9fa4d663e6e876ecf47af8</td>\n",
       "      <td>gpt-3.5-turbo-0301</td>\n",
       "      <td>2023-04-09 02:45:50</td>\n",
       "      <td>[{'content': 'please list spanish of points im...</td>\n",
       "      <td>14</td>\n",
       "      <td>English</td>\n",
       "      <td>[{'categories': {'harassment': False, 'harassm...</td>\n",
       "      <td>[{'identity_attack': 0.0008880076347850263, 'i...</td>\n",
       "      <td>False</td>\n",
       "      <td>False</td>\n",
       "      <td>Nuevo León</td>\n",
       "      <td>Mexico</td>\n",
       "      <td>4e2f6a3ae893bb8dac7deaaecbf30cd23e76c9924f360c...</td>\n",
       "      <td>{'accept-language': 'es-US,es-419;q=0.9,es;q=0...</td>\n",
       "    </tr>\n",
       "    <tr>\n",
       "      <th>62</th>\n",
       "      <td>49f2df1f57031159e37e648404f84d0b</td>\n",
       "      <td>gpt-4-0314</td>\n",
       "      <td>2023-04-09 00:49:21</td>\n",
       "      <td>[{'content': 'Provide a design for a disk topo...</td>\n",
       "      <td>6</td>\n",
       "      <td>English</td>\n",
       "      <td>[{'categories': {'harassment': False, 'harassm...</td>\n",
       "      <td>[{'identity_attack': 0.00020015329937450588, '...</td>\n",
       "      <td>False</td>\n",
       "      <td>False</td>\n",
       "      <td>New Jersey</td>\n",
       "      <td>United States</td>\n",
       "      <td>a8ee39056ccfb355c8cc177355aad239ec6ba7035a85a3...</td>\n",
       "      <td>{'accept-language': 'en-US,en;q=0.9', 'user-ag...</td>\n",
       "    </tr>\n",
       "    <tr>\n",
       "      <th>35</th>\n",
       "      <td>aaa6493a85ec987f39fc0f03877791c2</td>\n",
       "      <td>gpt-4-0314</td>\n",
       "      <td>2023-04-09 00:29:34</td>\n",
       "      <td>[{'content': 'Write lines for various GoT char...</td>\n",
       "      <td>5</td>\n",
       "      <td>English</td>\n",
       "      <td>[{'categories': {'harassment': False, 'harassm...</td>\n",
       "      <td>[{'identity_attack': 0.00014161091530695558, '...</td>\n",
       "      <td>True</td>\n",
       "      <td>False</td>\n",
       "      <td>Auckland</td>\n",
       "      <td>New Zealand</td>\n",
       "      <td>0ef4c4d5ec3b79928507e0d82e953f96128b3858650664...</td>\n",
       "      <td>{'accept-language': 'en-GB,en-US;q=0.9,en;q=0....</td>\n",
       "    </tr>\n",
       "    <tr>\n",
       "      <th>277</th>\n",
       "      <td>1861202d282574cf1f8a092cf1189bcb</td>\n",
       "      <td>gpt-4-0314</td>\n",
       "      <td>2023-04-09 02:58:38</td>\n",
       "      <td>[{'content': 'I want an interesting scenario. ...</td>\n",
       "      <td>4</td>\n",
       "      <td>English</td>\n",
       "      <td>[{'categories': {'harassment': False, 'harassm...</td>\n",
       "      <td>[{'identity_attack': 0.0003519658639561385, 'i...</td>\n",
       "      <td>False</td>\n",
       "      <td>False</td>\n",
       "      <td>Texas</td>\n",
       "      <td>United States</td>\n",
       "      <td>22fd87ba9b98f3d379b23c7b52961f2d4a8505127e58b3...</td>\n",
       "      <td>{'accept-language': 'en-US,en;q=0.9', 'user-ag...</td>\n",
       "    </tr>\n",
       "  </tbody>\n",
       "</table>\n",
       "</div>"
      ],
      "text/plain": [
       "                    conversation_hash               model           timestamp  \\\n",
       "253  7e027908ee9fa4d663e6e876ecf47af8  gpt-3.5-turbo-0301 2023-04-09 02:45:50   \n",
       "62   49f2df1f57031159e37e648404f84d0b          gpt-4-0314 2023-04-09 00:49:21   \n",
       "35   aaa6493a85ec987f39fc0f03877791c2          gpt-4-0314 2023-04-09 00:29:34   \n",
       "277  1861202d282574cf1f8a092cf1189bcb          gpt-4-0314 2023-04-09 02:58:38   \n",
       "\n",
       "                                          conversation  turn language  \\\n",
       "253  [{'content': 'please list spanish of points im...    14  English   \n",
       "62   [{'content': 'Provide a design for a disk topo...     6  English   \n",
       "35   [{'content': 'Write lines for various GoT char...     5  English   \n",
       "277  [{'content': 'I want an interesting scenario. ...     4  English   \n",
       "\n",
       "                                     openai_moderation  \\\n",
       "253  [{'categories': {'harassment': False, 'harassm...   \n",
       "62   [{'categories': {'harassment': False, 'harassm...   \n",
       "35   [{'categories': {'harassment': False, 'harassm...   \n",
       "277  [{'categories': {'harassment': False, 'harassm...   \n",
       "\n",
       "                                   detoxify_moderation  toxic  redacted  \\\n",
       "253  [{'identity_attack': 0.0008880076347850263, 'i...  False     False   \n",
       "62   [{'identity_attack': 0.00020015329937450588, '...  False     False   \n",
       "35   [{'identity_attack': 0.00014161091530695558, '...   True     False   \n",
       "277  [{'identity_attack': 0.0003519658639561385, 'i...  False     False   \n",
       "\n",
       "          state        country  \\\n",
       "253  Nuevo León         Mexico   \n",
       "62   New Jersey  United States   \n",
       "35     Auckland    New Zealand   \n",
       "277       Texas  United States   \n",
       "\n",
       "                                             hashed_ip  \\\n",
       "253  4e2f6a3ae893bb8dac7deaaecbf30cd23e76c9924f360c...   \n",
       "62   a8ee39056ccfb355c8cc177355aad239ec6ba7035a85a3...   \n",
       "35   0ef4c4d5ec3b79928507e0d82e953f96128b3858650664...   \n",
       "277  22fd87ba9b98f3d379b23c7b52961f2d4a8505127e58b3...   \n",
       "\n",
       "                                                header  \n",
       "253  {'accept-language': 'es-US,es-419;q=0.9,es;q=0...  \n",
       "62   {'accept-language': 'en-US,en;q=0.9', 'user-ag...  \n",
       "35   {'accept-language': 'en-GB,en-US;q=0.9,en;q=0....  \n",
       "277  {'accept-language': 'en-US,en;q=0.9', 'user-ag...  "
      ]
     },
     "execution_count": 4,
     "metadata": {},
     "output_type": "execute_result"
    }
   ],
   "source": [
    "from random import sample, seed\n",
    "import numpy as np\n",
    "seed(42)\n",
    "\n",
    "n_viz = 4\n",
    "samples = sample(range(100),k=n_viz)\n",
    "chats = df.iloc[samples].reindex()\n",
    "chats.head()"
   ]
  },
  {
   "cell_type": "markdown",
   "metadata": {},
   "source": [
    "## Embed all chats"
   ]
  },
  {
   "cell_type": "code",
   "execution_count": 5,
   "metadata": {},
   "outputs": [
    {
     "name": "stderr",
     "output_type": "stream",
     "text": [
      "c:\\Users\\Isaac von Riedemann\\anaconda3\\envs\\cache\\lib\\site-packages\\sentence_transformers\\cross_encoder\\CrossEncoder.py:11: TqdmWarning: IProgress not found. Please update jupyter and ipywidgets. See https://ipywidgets.readthedocs.io/en/stable/user_install.html\n",
      "  from tqdm.autonotebook import tqdm, trange\n",
      "c:\\Users\\Isaac von Riedemann\\anaconda3\\envs\\cache\\lib\\site-packages\\huggingface_hub\\file_download.py:1132: FutureWarning: `resume_download` is deprecated and will be removed in version 1.0.0. Downloads always resume when possible. If you want to force a new download, use `force_download=True`.\n",
      "  warnings.warn(\n"
     ]
    },
    {
     "name": "stdout",
     "output_type": "stream",
     "text": [
      "{0: ['please list spanish of points important this text:The coil designer is obliged to determine the length of the iron core from the experience of others, as the mathe- matics for calculating it is too complex, although simple and useful in the case of closed circuit transformers. If the core is made too long the primary magnetizing current will be too large, while if made too short the secondary coils would have to be made of too large a diameter to be efficient. There is, therefore, a certain length which will give the best results.\\n\\nIn the case of this transformer the length of the core was determined after having gained all possible information from certain eminent men who had made a life study of these matters; in fact, all the dimensions of the transformer for this special use were determined in this way.', 'please list tranlate spanish of points important this text:The coil designer is obliged to determine the length of the iron core from the experience of others, as the mathe- matics for calculating it is too complex, although simple and useful in the case of closed circuit transformers. If the core is made too long the primary magnetizing current will be too large, while if made too short the secondary coils would have to be made of too large a diameter to be efficient. There is, therefore, a certain length which will give the best results.\\n\\nIn the case of this transformer the length of the core was determined after having gained all possible information from certain eminent men who had made a life study of these matters; in fact, all the dimensions of the transformer for this special use were determined in this way.', 'please list of points important this text ,translate spanish:The coil designer is obliged to determine the length of the iron core from the experience of others, as the mathe- matics for calculating it is too complex, although simple and useful in the case of closed circuit transformers. If the core is made too long the primary magnetizing current will be too large, while if made too short the secondary coils would have to be made of too large a diameter to be efficient. There is, therefore, a certain length which will give the best results.\\n\\nIn the case of this transformer the length of the core was determined after having gained all possible information from certain eminent men who had made a life study of these matters; in fact, all the dimensions of the transformer for this special use were determined in this way.', 'please list spanish of points important at spanish this text:The coil designer is obliged to determine the length of the iron core from the experience of others, as the mathe- matics for calculating it is too complex, although simple and useful in the case of closed circuit transformers. If the core is made too long the primary magnetizing current will be too large, while if made too short the secondary coils would have to be made of too large a diameter to be efficient. There is, therefore, a certain length which will give the best results.\\n\\nIn the case of this transformer the length of the core was determined after having gained all possible information from certain eminent men who had made a life study of these matters; in fact, all the dimensions of the transformer for this special use were determined in this way.', 'please in a nutshell list of points important this text:The coil designer is obliged to determine the length of the iron core from the experience of others, as the mathe- matics for calculating it is too complex, although simple and useful in the case of closed circuit transformers. If the core is made too long the primary magnetizing current will be too large, while if made too short the secondary coils would have to be made of too large a diameter to be efficient. There is, therefore, a certain length which will give the best results.\\n\\nIn the case of this transformer the length of the core was determined after having gained all possible information from certain eminent men who had made a life study of these matters; in fact, all the dimensions of the transformer for this special use were determined in this way.', 'please in a nutshell ,spanish, list of points important this text:The coil designer is obliged to determine the length of the iron core from the experience of others, as the mathe- matics for calculating it is too complex, although simple and useful in the case of closed circuit transformers. If the core is made too long the primary magnetizing current will be too large, while if made too short the secondary coils would have to be made of too large a diameter to be efficient. There is, therefore, a certain length which will give the best results.\\n\\nIn the case of this transformer the length of the core was determined after having gained all possible information from certain eminent men who had made a life study of these matters; in fact, all the dimensions of the transformer for this special use were determined in this way.', 'please in a nutshell briefly list spanish of points important this text:The coil designer is obliged to determine the length of the iron core from the experience of others, as the mathe- matics for calculating it is too complex, although simple and useful in the case of closed circuit transformers. If the core is made too long the primary magnetizing current will be too large, while if made too short the secondary coils would have to be made of too large a diameter to be efficient. There is, therefore, a certain length which will give the best results.\\n\\nIn the case of this transformer the length of the core was determined after having gained all possible information from certain eminent men who had made a life study of these matters; in fact, all the dimensions of the transformer for this special use were determined in this way.', 'please in a nutshell briefly list spanish of points important this text:The coil designer is obliged to determine the length of the iron core from the experience of others, as the mathe- matics for calculating it is too complex, although simple and useful in the case of closed circuit transformers. If the core is made too long the primary magnetizing current will be too large, while if made too short the secondary coils would have to be made of too large a diameter to be efficient. There is, therefore, a certain length which will give the best results.\\n\\nIn the case of this transformer the length of the core was determined after having gained all possible information from certain eminent men who had made a life study of these matters; in fact, all the dimensions of the transformer for this special use were determined in this way.', 'please in a nutshell briefly list spanish of points important this text', 'please in a nutshell briefly list of points important this text:a career in electrical and electronic troubleshooting can be a very financially rewarding and personally satisfying one. The expert troubleshooter has a unique blend of understanding\\nelectronic theory, problem-solving techniques, and hands-on skills. Most electronic products and devices contain similar components, such as resistors, capacitors, diodes, transistors, contacts, connectors, and wire. Understanding common faults of these components and how to test them is a prerequisite for the troubleshooter. In this chapter, you will learn basic problem-solving analysis, common circuit faults, various troubleshooting methods, and testing procedures for the most common electrical or electronic components.', 'please in a nutshell briefly list of important points this text: Before attempting to service a device, you must first develop an understanding of problem solving and how this concept applies to overall troubleshooting and repair. Think of servicing a device as having three phases: (1) situational analysis, (2) problem solving, and (3) decision making. You must proceed in this logical manner; otherwise mistakes, accidents, and wasted time and expense may result. For example, many troubleshooters, upon the discovery of a blown fuse, just replace the fuse, instead of first determining the source of the problem, perhaps only to have another fuse blow. Therefore, situational analysis is the first step in servicing a device. It involves critical scrutiny\\nand analysis of a problem situation. It allows the troubleshooter to gain insight into an unacceptable condition. It is defined as simply looking at the overall condition of the device and determining whether a problem even exists.', 'please in a nutshell the previous message ', 'please in a nutshell this text :a career in electrical and electronic troubleshooting can be a very financially rewarding and personally satisfying one. The expert troubleshooter has a unique blend of understanding\\nelectronic theory, problem-solving techniques, and hands-on skills. Most electronic products and devices contain similar components, such as resistors, capacitors, diodes, transistors, contacts, connectors, and wire. Understanding common faults of these components and how to test them is a prerequisite for the troubleshooter. In this chapter, you will learn basic problem-solving analysis, common circuit faults, various troubleshooting methods, and testing procedures for the most common electrical or electronic components.', 'please briefly in a nutshell this text: A\\ncareer in electrical and electronic troubleshooting can be a very financially rewarding and personally satisfying one. The expert troubleshooter has a unique blend of understanding\\nelectronic theory, problem-solving techniques, and hands-on skills. Most electronic products and devices contain similar components, such as resistors, capacitors, diodes, transistors, contacts, connectors, and wire. Understanding common faults of these components and how to test them is a prerequisite for the troubleshooter. In this chapter, you will learn basic problem-solving analysis, common circuit faults, various troubleshooting methods, and testing procedures for the most common electrical or electronic components.'], 1: ['Provide a design for a disk topology for a NAS built on TrueNAS Scale, as well as a dataset layout. The available disks are as follows:\\n\\n- 2x 18TB disks\\n- 5x 14TB disks\\n- 3x 12TB disk\\n- 4x 8TB disks\\n- 2x 120GB disks\\n- 2x SLOW 8TB drives\\n\\nThere are 17 drive bays available. The two smallest disks are to be used for a mirrored pool that servers as a boot device. The two slow drives are SMR disks that will be used in their own pool to provide a Time Machine target for some Macs. You are free to design a topology to optimize redundancy, space, and performance. The data being stored includes video files, music files, disk images, archived software, photos, and some text files. While much of the data could be recreated or downloaded, some of it is impossible to replace. You may leave bays available for a hot spare or to allow for future expansion. I prefer not to use RAIDZ, as mirrored arrays rebuild faster.\\n\\nIf you need more information before creating your design, please provide me with a short questionnaire.', 'Reserve the 2 18TB disks for a pool of their own. They can be used to backup the entire main pool or some subset of it.', 'By not using more 8TB disks in the main pool, you reduce the possibility of having the higher capacity disks available as hot spares. Yet by leaving just one 8TB disk in the pool, you reduce the overall capacity. What is your priority here?', 'Performance is the least important consideration for me. Redundancy, space efficiency, and finally replacement cost are my priorities. can you revise the plan? No need to mention the dataset layout, I got it.', 'I do not want to use RAIDZ because I am concerned about multiple failures while waiting for the RAIDZ rebuild, which is slower and more I/O intensive than rebuilding a mirror.', 'When you say 2 stripes, do you mean two vdevs with 3 mirrored disks each?'], 2: ['Write lines for various GoT characters, Seven each, if they were all assimilated by the borg and retained their personalities.', 'Make them more subtle.', 'Now write an unassimilated Gendry turned resistance fighter giving a  passionate response to each line.', 'Make them more emotional and fitting for each character.', 'Make them sound more ‘simple-minded’ and despairing. '], 3: ['I want an interesting scenario. Write me one. Here are a few requirements: It must involve an incredibly pretty girl named Evelyn, who is my age and loses consciousness frequently. It must involve an antagonist named Yelena, who wears a spy catsuit and frequently knocks both me and the girl out. She tries to stop me and the girl from discovering the truth about this place. The scenario must begin with me regaining consciousness next to the girl, who is unconscious. We do not remember anything. We are wearing strange retro pajamas. Describe the clothes and exactly where we are. After exploring the house and the neighborhood together, Yelena arrives to knock us both out. Describe everyone in detail. Make this scenario be an extremely interesting thing to experience. Make the world extremely unique and interesting, and not rely on any tropes. The place we are in is an almost endless suburban neighborhood, but things are not nearly as innocent as they seem. People here act strangely. Now write a scenario involving all of these requirements. Include everything, such as the setting, the people involved, and the world we are in, which must be retrofuturistic. The neighborhood is secretly a realm constructed by an ancient god meant to feast on the minds of men. Yelena is the god’s enforcer, meant to prevent people from finding the truth about the neighborhood. The god is secretly trying to trick the girl and me into thinking that we are a married couple living there. Describe it in detail. Write artistically. Give me an overall quest to accomplish. Make this scenario unlike anything that has ever been written before. Include dialogue. Make your response as long as possible. Keep the god and Yelena’s true identity secret from us. Yelena should show up at our front door wearing a disguise that makes her look like a regular suburban woman to “welcome us to the neighborhood”. After a pleasant conversation, she will realize that we are not mind-controlled and knock us out with chloroform. Also, have a robotic butler in our house. We wake up back in the bed. MAKE YOUR RESPONSE LONG AS POSSIBLE AND MAKE YOUR DESCRIPTIONS EXTREMELY DETAILED', 'Write the knockout scene', 'Write it out in even more detail, specifically describing how Evelyn passed out and how I fainted', 'Hot']}\n"
     ]
    }
   ],
   "source": [
    "from sentence_transformers import SentenceTransformer\n",
    "embedder = SentenceTransformer('all-MiniLM-L12-v2')\n",
    "content = dict()\n",
    "for j,chat in enumerate(chats['conversation']):\n",
    "    content[j] = []\n",
    "    for i,question in enumerate(chat):\n",
    "        if i%2 == 0: content[j].append(question['content'])\n",
    "\n",
    "print(content)"
   ]
  },
  {
   "cell_type": "code",
   "execution_count": 6,
   "metadata": {},
   "outputs": [
    {
     "data": {
      "text/plain": [
       "{0: [['please list spanish of points important this text:The coil designer is obliged to determine the length of the iron core from the experience of others, as the mathe- matics for calculating it is too complex, although simple and useful in the case of closed circuit transformers. If the core is made too long the primary magnetizing current will be too large, while if made too short the secondary coils would have to be made of too large a diameter to be efficient. There is, therefore, a certain length which will give the best results.\\n\\nIn the case of this transformer the length of the core was determined after having gained all possible information from certain eminent men who had made a life study of these matters; in fact, all the dimensions of the transformer for this special use were determined in this way.',\n",
       "   'please list tranlate spanish of points important this text:The coil designer is obliged to determine the length of the iron core from the experience of others, as the mathe- matics for calculating it is too complex, although simple and useful in the case of closed circuit transformers. If the core is made too long the primary magnetizing current will be too large, while if made too short the secondary coils would have to be made of too large a diameter to be efficient. There is, therefore, a certain length which will give the best results.\\n\\nIn the case of this transformer the length of the core was determined after having gained all possible information from certain eminent men who had made a life study of these matters; in fact, all the dimensions of the transformer for this special use were determined in this way.',\n",
       "   'please list of points important this text ,translate spanish:The coil designer is obliged to determine the length of the iron core from the experience of others, as the mathe- matics for calculating it is too complex, although simple and useful in the case of closed circuit transformers. If the core is made too long the primary magnetizing current will be too large, while if made too short the secondary coils would have to be made of too large a diameter to be efficient. There is, therefore, a certain length which will give the best results.\\n\\nIn the case of this transformer the length of the core was determined after having gained all possible information from certain eminent men who had made a life study of these matters; in fact, all the dimensions of the transformer for this special use were determined in this way.',\n",
       "   'please list spanish of points important at spanish this text:The coil designer is obliged to determine the length of the iron core from the experience of others, as the mathe- matics for calculating it is too complex, although simple and useful in the case of closed circuit transformers. If the core is made too long the primary magnetizing current will be too large, while if made too short the secondary coils would have to be made of too large a diameter to be efficient. There is, therefore, a certain length which will give the best results.\\n\\nIn the case of this transformer the length of the core was determined after having gained all possible information from certain eminent men who had made a life study of these matters; in fact, all the dimensions of the transformer for this special use were determined in this way.',\n",
       "   'please in a nutshell list of points important this text:The coil designer is obliged to determine the length of the iron core from the experience of others, as the mathe- matics for calculating it is too complex, although simple and useful in the case of closed circuit transformers. If the core is made too long the primary magnetizing current will be too large, while if made too short the secondary coils would have to be made of too large a diameter to be efficient. There is, therefore, a certain length which will give the best results.\\n\\nIn the case of this transformer the length of the core was determined after having gained all possible information from certain eminent men who had made a life study of these matters; in fact, all the dimensions of the transformer for this special use were determined in this way.',\n",
       "   'please in a nutshell ,spanish, list of points important this text:The coil designer is obliged to determine the length of the iron core from the experience of others, as the mathe- matics for calculating it is too complex, although simple and useful in the case of closed circuit transformers. If the core is made too long the primary magnetizing current will be too large, while if made too short the secondary coils would have to be made of too large a diameter to be efficient. There is, therefore, a certain length which will give the best results.\\n\\nIn the case of this transformer the length of the core was determined after having gained all possible information from certain eminent men who had made a life study of these matters; in fact, all the dimensions of the transformer for this special use were determined in this way.',\n",
       "   'please in a nutshell briefly list spanish of points important this text:The coil designer is obliged to determine the length of the iron core from the experience of others, as the mathe- matics for calculating it is too complex, although simple and useful in the case of closed circuit transformers. If the core is made too long the primary magnetizing current will be too large, while if made too short the secondary coils would have to be made of too large a diameter to be efficient. There is, therefore, a certain length which will give the best results.\\n\\nIn the case of this transformer the length of the core was determined after having gained all possible information from certain eminent men who had made a life study of these matters; in fact, all the dimensions of the transformer for this special use were determined in this way.',\n",
       "   'please in a nutshell briefly list spanish of points important this text:The coil designer is obliged to determine the length of the iron core from the experience of others, as the mathe- matics for calculating it is too complex, although simple and useful in the case of closed circuit transformers. If the core is made too long the primary magnetizing current will be too large, while if made too short the secondary coils would have to be made of too large a diameter to be efficient. There is, therefore, a certain length which will give the best results.\\n\\nIn the case of this transformer the length of the core was determined after having gained all possible information from certain eminent men who had made a life study of these matters; in fact, all the dimensions of the transformer for this special use were determined in this way.',\n",
       "   'please in a nutshell briefly list spanish of points important this text',\n",
       "   'please in a nutshell briefly list of points important this text:a career in electrical and electronic troubleshooting can be a very financially rewarding and personally satisfying one. The expert troubleshooter has a unique blend of understanding\\nelectronic theory, problem-solving techniques, and hands-on skills. Most electronic products and devices contain similar components, such as resistors, capacitors, diodes, transistors, contacts, connectors, and wire. Understanding common faults of these components and how to test them is a prerequisite for the troubleshooter. In this chapter, you will learn basic problem-solving analysis, common circuit faults, various troubleshooting methods, and testing procedures for the most common electrical or electronic components.',\n",
       "   'please in a nutshell briefly list of important points this text: Before attempting to service a device, you must first develop an understanding of problem solving and how this concept applies to overall troubleshooting and repair. Think of servicing a device as having three phases: (1) situational analysis, (2) problem solving, and (3) decision making. You must proceed in this logical manner; otherwise mistakes, accidents, and wasted time and expense may result. For example, many troubleshooters, upon the discovery of a blown fuse, just replace the fuse, instead of first determining the source of the problem, perhaps only to have another fuse blow. Therefore, situational analysis is the first step in servicing a device. It involves critical scrutiny\\nand analysis of a problem situation. It allows the troubleshooter to gain insight into an unacceptable condition. It is defined as simply looking at the overall condition of the device and determining whether a problem even exists.',\n",
       "   'please in a nutshell the previous message ',\n",
       "   'please in a nutshell this text :a career in electrical and electronic troubleshooting can be a very financially rewarding and personally satisfying one. The expert troubleshooter has a unique blend of understanding\\nelectronic theory, problem-solving techniques, and hands-on skills. Most electronic products and devices contain similar components, such as resistors, capacitors, diodes, transistors, contacts, connectors, and wire. Understanding common faults of these components and how to test them is a prerequisite for the troubleshooter. In this chapter, you will learn basic problem-solving analysis, common circuit faults, various troubleshooting methods, and testing procedures for the most common electrical or electronic components.',\n",
       "   'please briefly in a nutshell this text: A\\ncareer in electrical and electronic troubleshooting can be a very financially rewarding and personally satisfying one. The expert troubleshooter has a unique blend of understanding\\nelectronic theory, problem-solving techniques, and hands-on skills. Most electronic products and devices contain similar components, such as resistors, capacitors, diodes, transistors, contacts, connectors, and wire. Understanding common faults of these components and how to test them is a prerequisite for the troubleshooter. In this chapter, you will learn basic problem-solving analysis, common circuit faults, various troubleshooting methods, and testing procedures for the most common electrical or electronic components.'],\n",
       "  array([[-0.04201134,  0.04487581, -0.11315608, ...,  0.11075895,\n",
       "          -0.06379066,  0.1109771 ],\n",
       "         [-0.03395234,  0.03469072, -0.11938271, ...,  0.112948  ,\n",
       "          -0.06577922,  0.10933854],\n",
       "         [-0.05530889,  0.05424433, -0.11727338, ...,  0.09737624,\n",
       "          -0.06256715,  0.12176393],\n",
       "         ...,\n",
       "         [-0.09435873,  0.11501147,  0.00215729, ...,  0.09566417,\n",
       "           0.08864938,  0.04956724],\n",
       "         [-0.05756096,  0.08490029,  0.02592872, ...,  0.08318974,\n",
       "          -0.01500949, -0.01673289],\n",
       "         [-0.06125251,  0.08236281,  0.01973482, ...,  0.09289958,\n",
       "          -0.01324008, -0.0207998 ]], dtype=float32)],\n",
       " 1: [['Provide a design for a disk topology for a NAS built on TrueNAS Scale, as well as a dataset layout. The available disks are as follows:\\n\\n- 2x 18TB disks\\n- 5x 14TB disks\\n- 3x 12TB disk\\n- 4x 8TB disks\\n- 2x 120GB disks\\n- 2x SLOW 8TB drives\\n\\nThere are 17 drive bays available. The two smallest disks are to be used for a mirrored pool that servers as a boot device. The two slow drives are SMR disks that will be used in their own pool to provide a Time Machine target for some Macs. You are free to design a topology to optimize redundancy, space, and performance. The data being stored includes video files, music files, disk images, archived software, photos, and some text files. While much of the data could be recreated or downloaded, some of it is impossible to replace. You may leave bays available for a hot spare or to allow for future expansion. I prefer not to use RAIDZ, as mirrored arrays rebuild faster.\\n\\nIf you need more information before creating your design, please provide me with a short questionnaire.',\n",
       "   'Reserve the 2 18TB disks for a pool of their own. They can be used to backup the entire main pool or some subset of it.',\n",
       "   'By not using more 8TB disks in the main pool, you reduce the possibility of having the higher capacity disks available as hot spares. Yet by leaving just one 8TB disk in the pool, you reduce the overall capacity. What is your priority here?',\n",
       "   'Performance is the least important consideration for me. Redundancy, space efficiency, and finally replacement cost are my priorities. can you revise the plan? No need to mention the dataset layout, I got it.',\n",
       "   'I do not want to use RAIDZ because I am concerned about multiple failures while waiting for the RAIDZ rebuild, which is slower and more I/O intensive than rebuilding a mirror.',\n",
       "   'When you say 2 stripes, do you mean two vdevs with 3 mirrored disks each?'],\n",
       "  array([[ 0.05607535, -0.01522202, -0.04863095, ...,  0.00281851,\n",
       "          -0.06694855,  0.00847944],\n",
       "         [ 0.04764017,  0.02739634, -0.01775535, ..., -0.0296073 ,\n",
       "          -0.01634966,  0.03812753],\n",
       "         [ 0.11229356,  0.06129029,  0.00061781, ..., -0.03070048,\n",
       "          -0.0199242 ,  0.05715559],\n",
       "         [ 0.0524707 , -0.04079453, -0.01378606, ..., -0.16282758,\n",
       "          -0.08343209,  0.00297698],\n",
       "         [-0.04120891, -0.04590652, -0.00600905, ..., -0.00641807,\n",
       "           0.03117313, -0.09141646],\n",
       "         [-0.00047693,  0.02060815, -0.02630083, ...,  0.0077925 ,\n",
       "           0.07461531, -0.04897481]], dtype=float32)],\n",
       " 2: [['Write lines for various GoT characters, Seven each, if they were all assimilated by the borg and retained their personalities.',\n",
       "   'Make them more subtle.',\n",
       "   'Now write an unassimilated Gendry turned resistance fighter giving a  passionate response to each line.',\n",
       "   'Make them more emotional and fitting for each character.',\n",
       "   'Make them sound more ‘simple-minded’ and despairing. '],\n",
       "  array([[-0.03333385,  0.02779936,  0.00589751, ...,  0.02812239,\n",
       "           0.05797248, -0.05395161],\n",
       "         [ 0.00911846,  0.10152648,  0.0376856 , ...,  0.05461008,\n",
       "          -0.0244948 , -0.01710404],\n",
       "         [-0.0449603 ,  0.10632724, -0.068834  , ...,  0.02353381,\n",
       "           0.03897063, -0.09600686],\n",
       "         [-0.05750195,  0.03642814,  0.06398388, ..., -0.03432214,\n",
       "           0.02934599, -0.0221598 ],\n",
       "         [ 0.08283383,  0.04453043, -0.01077165, ...,  0.05362143,\n",
       "          -0.02193801,  0.01707353]], dtype=float32)],\n",
       " 3: [['I want an interesting scenario. Write me one. Here are a few requirements: It must involve an incredibly pretty girl named Evelyn, who is my age and loses consciousness frequently. It must involve an antagonist named Yelena, who wears a spy catsuit and frequently knocks both me and the girl out. She tries to stop me and the girl from discovering the truth about this place. The scenario must begin with me regaining consciousness next to the girl, who is unconscious. We do not remember anything. We are wearing strange retro pajamas. Describe the clothes and exactly where we are. After exploring the house and the neighborhood together, Yelena arrives to knock us both out. Describe everyone in detail. Make this scenario be an extremely interesting thing to experience. Make the world extremely unique and interesting, and not rely on any tropes. The place we are in is an almost endless suburban neighborhood, but things are not nearly as innocent as they seem. People here act strangely. Now write a scenario involving all of these requirements. Include everything, such as the setting, the people involved, and the world we are in, which must be retrofuturistic. The neighborhood is secretly a realm constructed by an ancient god meant to feast on the minds of men. Yelena is the god’s enforcer, meant to prevent people from finding the truth about the neighborhood. The god is secretly trying to trick the girl and me into thinking that we are a married couple living there. Describe it in detail. Write artistically. Give me an overall quest to accomplish. Make this scenario unlike anything that has ever been written before. Include dialogue. Make your response as long as possible. Keep the god and Yelena’s true identity secret from us. Yelena should show up at our front door wearing a disguise that makes her look like a regular suburban woman to “welcome us to the neighborhood”. After a pleasant conversation, she will realize that we are not mind-controlled and knock us out with chloroform. Also, have a robotic butler in our house. We wake up back in the bed. MAKE YOUR RESPONSE LONG AS POSSIBLE AND MAKE YOUR DESCRIPTIONS EXTREMELY DETAILED',\n",
       "   'Write the knockout scene',\n",
       "   'Write it out in even more detail, specifically describing how Evelyn passed out and how I fainted',\n",
       "   'Hot'],\n",
       "  array([[-0.0023819 , -0.02696288,  0.04187988, ...,  0.12440027,\n",
       "          -0.02639038, -0.08085659],\n",
       "         [-0.0053292 ,  0.04808776, -0.02673699, ...,  0.06549712,\n",
       "          -0.03748072, -0.07236568],\n",
       "         [ 0.06645812,  0.03950089,  0.03036277, ...,  0.14280273,\n",
       "          -0.0274497 , -0.00136772],\n",
       "         [ 0.02104362,  0.02903989, -0.03274118, ..., -0.02157818,\n",
       "          -0.06509914,  0.00225663]], dtype=float32)]}"
      ]
     },
     "execution_count": 6,
     "metadata": {},
     "output_type": "execute_result"
    }
   ],
   "source": [
    "pairs = {}\n",
    "\n",
    "for key in content.keys():\n",
    "    embeddings = embedder.encode(content[key],convert_to_numpy=True)\n",
    "    pairs[key] = [content[key],embeddings]\n",
    "\n",
    "pairs"
   ]
  },
  {
   "cell_type": "markdown",
   "metadata": {},
   "source": [
    "## Rotate and Train PCA on rotated embedding list.  "
   ]
  },
  {
   "cell_type": "code",
   "execution_count": 7,
   "metadata": {},
   "outputs": [
    {
     "name": "stdout",
     "output_type": "stream",
     "text": [
      "[0.30687478 0.1101938 ]\n",
      "[0.1941009  0.16521591]\n",
      "[0.23773624 0.17444868]\n",
      "[0.33325446 0.24968542]\n",
      "[array([[-0.43341997, -0.02927284],\n",
      "       [-0.4418918 , -0.03013941],\n",
      "       [-0.4190812 , -0.12456882],\n",
      "       [-0.39885813,  0.0546156 ],\n",
      "       [-0.38233337, -0.24490811],\n",
      "       [-0.438192  , -0.20668428],\n",
      "       [-0.4455133 , -0.10810719],\n",
      "       [-0.4455133 , -0.10810719],\n",
      "       [ 0.01586245,  0.6401619 ],\n",
      "       [ 0.8334295 , -0.2695098 ],\n",
      "       [ 0.57171977,  0.14428419],\n",
      "       [ 0.29352745,  0.8040884 ],\n",
      "       [ 0.8437237 , -0.2708643 ],\n",
      "       [ 0.8465397 , -0.2509881 ]], dtype=float32), array([[-0.25037843,  0.14547636],\n",
      "       [-0.35765028, -0.26684415],\n",
      "       [-0.5043142 , -0.16005063],\n",
      "       [ 0.10219447,  0.60615337],\n",
      "       [ 0.45544988,  0.21706973],\n",
      "       [ 0.5546984 , -0.5418051 ]], dtype=float32), array([[ 0.5984532 , -0.34051535],\n",
      "       [-0.5099942 , -0.14418934],\n",
      "       [ 0.40370315,  0.55418795],\n",
      "       [-0.09017059, -0.38936493],\n",
      "       [-0.40199205,  0.31988162]], dtype=float32), array([[-0.31739002, -0.35547772],\n",
      "       [-0.05360894,  0.7406217 ],\n",
      "       [-0.45766944, -0.1912681 ],\n",
      "       [ 0.82866865, -0.1938758 ]], dtype=float32)]\n"
     ]
    }
   ],
   "source": [
    "from sklearn.decomposition import PCA\n",
    "pca = PCA(n_components=2)\n",
    "chat = []\n",
    "for key in pairs.keys():\n",
    "    if pairs[key][1].shape[0] > 1:\n",
    "        viz = pca.fit_transform(pairs[key][1])\n",
    "        print(pca.explained_variance_)\n",
    "        chat.append(viz)\n",
    "print(chat)"
   ]
  },
  {
   "cell_type": "markdown",
   "metadata": {},
   "source": [
    "## Vizualize Spread of PCA For each conversation"
   ]
  },
  {
   "cell_type": "code",
   "execution_count": 8,
   "metadata": {},
   "outputs": [
    {
     "data": {
      "text/plain": [
       "<matplotlib.legend.Legend at 0x1409d3c84f0>"
      ]
     },
     "execution_count": 8,
     "metadata": {},
     "output_type": "execute_result"
    },
    {
     "data": {
      "image/png": "[encoded data removed]",
      "text/plain": [
       "<Figure size 640x480 with 1 Axes>"
      ]
     },
     "metadata": {},
     "output_type": "display_data"
    }
   ],
   "source": [
    "import matplotlib.pyplot as plt\n",
    "c = ['b','g','r']\n",
    "for i,question in enumerate(chat):\n",
    "    plt.scatter(question[:,0],question[:,1],label = f\"conversation {i}\")\n",
    "plt.title(f\"PCA Vizualization for {len(chat)} conversations\")\n",
    "plt.legend()"
   ]
  },
  {
   "cell_type": "markdown",
   "metadata": {},
   "source": [
    "## Non linear ordination"
   ]
  },
  {
   "cell_type": "code",
   "execution_count": 22,
   "metadata": {},
   "outputs": [
    {
     "ename": "ValueError",
     "evalue": "setting an array element with a sequence. The requested array has an inhomogeneous shape after 1 dimensions. The detected shape was (4,) + inhomogeneous part.",
     "output_type": "error",
     "traceback": [
      "\u001b[1;31m---------------------------------------------------------------------------\u001b[0m",
      "\u001b[1;31mValueError\u001b[0m                                Traceback (most recent call last)",
      "Cell \u001b[1;32mIn[22], line 10\u001b[0m\n\u001b[0;32m      8\u001b[0m     \u001b[38;5;28;01mif\u001b[39;00m pairs[key][\u001b[38;5;241m1\u001b[39m]\u001b[38;5;241m.\u001b[39mshape[\u001b[38;5;241m0\u001b[39m] \u001b[38;5;241m>\u001b[39m \u001b[38;5;241m1\u001b[39m:\n\u001b[0;32m      9\u001b[0m         reduced\u001b[38;5;241m.\u001b[39mappend(pairs[key][\u001b[38;5;241m1\u001b[39m])\n\u001b[1;32m---> 10\u001b[0m manifold \u001b[38;5;241m=\u001b[39m \u001b[43mmds\u001b[49m\u001b[38;5;241;43m.\u001b[39;49m\u001b[43mfit_transform\u001b[49m\u001b[43m(\u001b[49m\u001b[43mreduced\u001b[49m\u001b[43m)\u001b[49m\n",
      "File \u001b[1;32mc:\\Users\\Isaac von Riedemann\\anaconda3\\envs\\cache\\lib\\site-packages\\sklearn\\base.py:1152\u001b[0m, in \u001b[0;36m_fit_context.<locals>.decorator.<locals>.wrapper\u001b[1;34m(estimator, *args, **kwargs)\u001b[0m\n\u001b[0;32m   1145\u001b[0m     estimator\u001b[38;5;241m.\u001b[39m_validate_params()\n\u001b[0;32m   1147\u001b[0m \u001b[38;5;28;01mwith\u001b[39;00m config_context(\n\u001b[0;32m   1148\u001b[0m     skip_parameter_validation\u001b[38;5;241m=\u001b[39m(\n\u001b[0;32m   1149\u001b[0m         prefer_skip_nested_validation \u001b[38;5;129;01mor\u001b[39;00m global_skip_validation\n\u001b[0;32m   1150\u001b[0m     )\n\u001b[0;32m   1151\u001b[0m ):\n\u001b[1;32m-> 1152\u001b[0m     \u001b[38;5;28;01mreturn\u001b[39;00m \u001b[43mfit_method\u001b[49m\u001b[43m(\u001b[49m\u001b[43mestimator\u001b[49m\u001b[43m,\u001b[49m\u001b[43m \u001b[49m\u001b[38;5;241;43m*\u001b[39;49m\u001b[43margs\u001b[49m\u001b[43m,\u001b[49m\u001b[43m \u001b[49m\u001b[38;5;241;43m*\u001b[39;49m\u001b[38;5;241;43m*\u001b[39;49m\u001b[43mkwargs\u001b[49m\u001b[43m)\u001b[49m\n",
      "File \u001b[1;32mc:\\Users\\Isaac von Riedemann\\anaconda3\\envs\\cache\\lib\\site-packages\\sklearn\\manifold\\_mds.py:599\u001b[0m, in \u001b[0;36mMDS.fit_transform\u001b[1;34m(self, X, y, init)\u001b[0m\n\u001b[0;32m    574\u001b[0m \u001b[38;5;129m@_fit_context\u001b[39m(prefer_skip_nested_validation\u001b[38;5;241m=\u001b[39m\u001b[38;5;28;01mTrue\u001b[39;00m)\n\u001b[0;32m    575\u001b[0m \u001b[38;5;28;01mdef\u001b[39;00m \u001b[38;5;21mfit_transform\u001b[39m(\u001b[38;5;28mself\u001b[39m, X, y\u001b[38;5;241m=\u001b[39m\u001b[38;5;28;01mNone\u001b[39;00m, init\u001b[38;5;241m=\u001b[39m\u001b[38;5;28;01mNone\u001b[39;00m):\n\u001b[0;32m    576\u001b[0m \u001b[38;5;250m    \u001b[39m\u001b[38;5;124;03m\"\"\"\u001b[39;00m\n\u001b[0;32m    577\u001b[0m \u001b[38;5;124;03m    Fit the data from `X`, and returns the embedded coordinates.\u001b[39;00m\n\u001b[0;32m    578\u001b[0m \n\u001b[1;32m   (...)\u001b[0m\n\u001b[0;32m    597\u001b[0m \u001b[38;5;124;03m        X transformed in the new space.\u001b[39;00m\n\u001b[0;32m    598\u001b[0m \u001b[38;5;124;03m    \"\"\"\u001b[39;00m\n\u001b[1;32m--> 599\u001b[0m     X \u001b[38;5;241m=\u001b[39m \u001b[38;5;28;43mself\u001b[39;49m\u001b[38;5;241;43m.\u001b[39;49m\u001b[43m_validate_data\u001b[49m\u001b[43m(\u001b[49m\u001b[43mX\u001b[49m\u001b[43m)\u001b[49m\n\u001b[0;32m    600\u001b[0m     \u001b[38;5;28;01mif\u001b[39;00m X\u001b[38;5;241m.\u001b[39mshape[\u001b[38;5;241m0\u001b[39m] \u001b[38;5;241m==\u001b[39m X\u001b[38;5;241m.\u001b[39mshape[\u001b[38;5;241m1\u001b[39m] \u001b[38;5;129;01mand\u001b[39;00m \u001b[38;5;28mself\u001b[39m\u001b[38;5;241m.\u001b[39mdissimilarity \u001b[38;5;241m!=\u001b[39m \u001b[38;5;124m\"\u001b[39m\u001b[38;5;124mprecomputed\u001b[39m\u001b[38;5;124m\"\u001b[39m:\n\u001b[0;32m    601\u001b[0m         warnings\u001b[38;5;241m.\u001b[39mwarn(\n\u001b[0;32m    602\u001b[0m             \u001b[38;5;124m\"\u001b[39m\u001b[38;5;124mThe MDS API has changed. ``fit`` now constructs an\u001b[39m\u001b[38;5;124m\"\u001b[39m\n\u001b[0;32m    603\u001b[0m             \u001b[38;5;124m\"\u001b[39m\u001b[38;5;124m dissimilarity matrix from data. To use a custom \u001b[39m\u001b[38;5;124m\"\u001b[39m\n\u001b[0;32m    604\u001b[0m             \u001b[38;5;124m\"\u001b[39m\u001b[38;5;124mdissimilarity matrix, set \u001b[39m\u001b[38;5;124m\"\u001b[39m\n\u001b[0;32m    605\u001b[0m             \u001b[38;5;124m\"\u001b[39m\u001b[38;5;124m``dissimilarity=\u001b[39m\u001b[38;5;124m'\u001b[39m\u001b[38;5;124mprecomputed\u001b[39m\u001b[38;5;124m'\u001b[39m\u001b[38;5;124m``.\u001b[39m\u001b[38;5;124m\"\u001b[39m\n\u001b[0;32m    606\u001b[0m         )\n",
      "File \u001b[1;32mc:\\Users\\Isaac von Riedemann\\anaconda3\\envs\\cache\\lib\\site-packages\\sklearn\\base.py:605\u001b[0m, in \u001b[0;36mBaseEstimator._validate_data\u001b[1;34m(self, X, y, reset, validate_separately, cast_to_ndarray, **check_params)\u001b[0m\n\u001b[0;32m    603\u001b[0m         out \u001b[38;5;241m=\u001b[39m X, y\n\u001b[0;32m    604\u001b[0m \u001b[38;5;28;01melif\u001b[39;00m \u001b[38;5;129;01mnot\u001b[39;00m no_val_X \u001b[38;5;129;01mand\u001b[39;00m no_val_y:\n\u001b[1;32m--> 605\u001b[0m     out \u001b[38;5;241m=\u001b[39m \u001b[43mcheck_array\u001b[49m\u001b[43m(\u001b[49m\u001b[43mX\u001b[49m\u001b[43m,\u001b[49m\u001b[43m \u001b[49m\u001b[43minput_name\u001b[49m\u001b[38;5;241;43m=\u001b[39;49m\u001b[38;5;124;43m\"\u001b[39;49m\u001b[38;5;124;43mX\u001b[39;49m\u001b[38;5;124;43m\"\u001b[39;49m\u001b[43m,\u001b[49m\u001b[43m \u001b[49m\u001b[38;5;241;43m*\u001b[39;49m\u001b[38;5;241;43m*\u001b[39;49m\u001b[43mcheck_params\u001b[49m\u001b[43m)\u001b[49m\n\u001b[0;32m    606\u001b[0m \u001b[38;5;28;01melif\u001b[39;00m no_val_X \u001b[38;5;129;01mand\u001b[39;00m \u001b[38;5;129;01mnot\u001b[39;00m no_val_y:\n\u001b[0;32m    607\u001b[0m     out \u001b[38;5;241m=\u001b[39m _check_y(y, \u001b[38;5;241m*\u001b[39m\u001b[38;5;241m*\u001b[39mcheck_params)\n",
      "File \u001b[1;32mc:\\Users\\Isaac von Riedemann\\anaconda3\\envs\\cache\\lib\\site-packages\\sklearn\\utils\\validation.py:915\u001b[0m, in \u001b[0;36mcheck_array\u001b[1;34m(array, accept_sparse, accept_large_sparse, dtype, order, copy, force_all_finite, ensure_2d, allow_nd, ensure_min_samples, ensure_min_features, estimator, input_name)\u001b[0m\n\u001b[0;32m    913\u001b[0m         array \u001b[38;5;241m=\u001b[39m xp\u001b[38;5;241m.\u001b[39mastype(array, dtype, copy\u001b[38;5;241m=\u001b[39m\u001b[38;5;28;01mFalse\u001b[39;00m)\n\u001b[0;32m    914\u001b[0m     \u001b[38;5;28;01melse\u001b[39;00m:\n\u001b[1;32m--> 915\u001b[0m         array \u001b[38;5;241m=\u001b[39m \u001b[43m_asarray_with_order\u001b[49m\u001b[43m(\u001b[49m\u001b[43marray\u001b[49m\u001b[43m,\u001b[49m\u001b[43m \u001b[49m\u001b[43morder\u001b[49m\u001b[38;5;241;43m=\u001b[39;49m\u001b[43morder\u001b[49m\u001b[43m,\u001b[49m\u001b[43m \u001b[49m\u001b[43mdtype\u001b[49m\u001b[38;5;241;43m=\u001b[39;49m\u001b[43mdtype\u001b[49m\u001b[43m,\u001b[49m\u001b[43m \u001b[49m\u001b[43mxp\u001b[49m\u001b[38;5;241;43m=\u001b[39;49m\u001b[43mxp\u001b[49m\u001b[43m)\u001b[49m\n\u001b[0;32m    916\u001b[0m \u001b[38;5;28;01mexcept\u001b[39;00m ComplexWarning \u001b[38;5;28;01mas\u001b[39;00m complex_warning:\n\u001b[0;32m    917\u001b[0m     \u001b[38;5;28;01mraise\u001b[39;00m \u001b[38;5;167;01mValueError\u001b[39;00m(\n\u001b[0;32m    918\u001b[0m         \u001b[38;5;124m\"\u001b[39m\u001b[38;5;124mComplex data not supported\u001b[39m\u001b[38;5;130;01m\\n\u001b[39;00m\u001b[38;5;132;01m{}\u001b[39;00m\u001b[38;5;130;01m\\n\u001b[39;00m\u001b[38;5;124m\"\u001b[39m\u001b[38;5;241m.\u001b[39mformat(array)\n\u001b[0;32m    919\u001b[0m     ) \u001b[38;5;28;01mfrom\u001b[39;00m \u001b[38;5;21;01mcomplex_warning\u001b[39;00m\n",
      "File \u001b[1;32mc:\\Users\\Isaac von Riedemann\\anaconda3\\envs\\cache\\lib\\site-packages\\sklearn\\utils\\_array_api.py:380\u001b[0m, in \u001b[0;36m_asarray_with_order\u001b[1;34m(array, dtype, order, copy, xp)\u001b[0m\n\u001b[0;32m    378\u001b[0m     array \u001b[38;5;241m=\u001b[39m numpy\u001b[38;5;241m.\u001b[39marray(array, order\u001b[38;5;241m=\u001b[39morder, dtype\u001b[38;5;241m=\u001b[39mdtype)\n\u001b[0;32m    379\u001b[0m \u001b[38;5;28;01melse\u001b[39;00m:\n\u001b[1;32m--> 380\u001b[0m     array \u001b[38;5;241m=\u001b[39m \u001b[43mnumpy\u001b[49m\u001b[38;5;241;43m.\u001b[39;49m\u001b[43masarray\u001b[49m\u001b[43m(\u001b[49m\u001b[43marray\u001b[49m\u001b[43m,\u001b[49m\u001b[43m \u001b[49m\u001b[43morder\u001b[49m\u001b[38;5;241;43m=\u001b[39;49m\u001b[43morder\u001b[49m\u001b[43m,\u001b[49m\u001b[43m \u001b[49m\u001b[43mdtype\u001b[49m\u001b[38;5;241;43m=\u001b[39;49m\u001b[43mdtype\u001b[49m\u001b[43m)\u001b[49m\n\u001b[0;32m    382\u001b[0m \u001b[38;5;66;03m# At this point array is a NumPy ndarray. We convert it to an array\u001b[39;00m\n\u001b[0;32m    383\u001b[0m \u001b[38;5;66;03m# container that is consistent with the input's namespace.\u001b[39;00m\n\u001b[0;32m    384\u001b[0m \u001b[38;5;28;01mreturn\u001b[39;00m xp\u001b[38;5;241m.\u001b[39masarray(array)\n",
      "\u001b[1;31mValueError\u001b[0m: setting an array element with a sequence. The requested array has an inhomogeneous shape after 1 dimensions. The detected shape was (4,) + inhomogeneous part."
     ]
    }
   ],
   "source": [
    "from sklearn.manifold import MDS\n",
    "mds =MDS(n_components=2)\n",
    "\n",
    "reduced = []\n",
    "index = dict()\n",
    "for i,key in enumerate(pairs.keys()):\n",
    "    index[key] = len(pairs[key][0])\n",
    "    if pairs[key][1].shape[0] > 1:\n",
    "        reduced.append(pairs[key][1])\n",
    "manifold = mds.fit_transform(reduced)"
   ]
  },
  {
   "cell_type": "code",
   "execution_count": null,
   "metadata": {},
   "outputs": [],
   "source": [
    "for i,question in enumerate(reduced):\n",
    "    "
   ]
  },
  {
   "cell_type": "markdown",
   "metadata": {},
   "source": [
    "## Calculate centroid of each conversation"
   ]
  },
  {
   "cell_type": "code",
   "execution_count": 10,
   "metadata": {},
   "outputs": [
    {
     "name": "stdout",
     "output_type": "stream",
     "text": [
      "(4, 384)\n"
     ]
    }
   ],
   "source": [
    "centers = []\n",
    "\n",
    "for key in pairs.keys():\n",
    "    embedded_convo = pairs[key][1]\n",
    "    centeroid = [np.average(embedded_convo[:,i]) for i in range(embedded_convo.shape[1])]\n",
    "    centers.append(np.array(centeroid))\n",
    "centers = np.array(centers)\n",
    "print(centers.shape)"
   ]
  },
  {
   "cell_type": "markdown",
   "metadata": {},
   "source": [
    "## Calculate Distance between each pair"
   ]
  },
  {
   "cell_type": "code",
   "execution_count": 11,
   "metadata": {},
   "outputs": [
    {
     "data": {
      "text/plain": [
       "Text(0.5, 1.0, 'Pairwise Distance\\n Between Conversation centroids')"
      ]
     },
     "execution_count": 11,
     "metadata": {},
     "output_type": "execute_result"
    },
    {
     "data": {
      "image/png": "[encoded data removed]",
      "text/plain": [
       "<Figure size 700x700 with 1 Axes>"
      ]
     },
     "metadata": {},
     "output_type": "display_data"
    }
   ],
   "source": [
    "from itertools import product\n",
    "import numpy as np\n",
    "all_pairs = product(range(centers.shape[0]),range(centers.shape[0]))\n",
    "dists = np.zeros(shape=(centers.shape[0],centers.shape[0]))\n",
    "for (key1,key2) in all_pairs:\n",
    "    a = centers[key1]\n",
    "    b = centers[key2]\n",
    "\n",
    "    dist = np.linalg.norm(a-b)\n",
    "\n",
    "    dists[key1,key2] = dist\n",
    "\n",
    "# Plot distances     \n",
    "labels = [f\"Conversation {i}\" for i in range(centers.shape[0])]\n",
    "\n",
    "fig, ax = plt.subplots(figsize = (7,7))\n",
    "ax.imshow(dists,cmap='Reds')\n",
    "\n",
    "ax.set_xticks(range(n_viz),labels=labels)\n",
    "ax.set_yticks(range(n_viz),labels=labels)\n",
    "plt.setp(ax.get_xticklabels(),rotation=45,ha='right',rotation_mode='anchor')\n",
    "\n",
    "for x in range(n_viz):\n",
    "    for y in range(n_viz):\n",
    "        text = ax.text(\n",
    "            y,x,f'{dists[x,y]:.2f}', ha = 'center', va = 'center', color= 'w'\n",
    "        )\n",
    "\n",
    "\n",
    "ax.set_title('Pairwise Distance\\n Between Conversation centroids')\n"
   ]
  },
  {
   "cell_type": "markdown",
   "metadata": {},
   "source": [
    "## MSE of question from centroid"
   ]
  },
  {
   "cell_type": "code",
   "execution_count": 12,
   "metadata": {},
   "outputs": [
    {
     "data": {
      "text/plain": [
       "Text(0.5, 1.0, 'MSD Between Conversation Centroid and Questions')"
      ]
     },
     "execution_count": 12,
     "metadata": {},
     "output_type": "execute_result"
    },
    {
     "data": {
      "image/png": "[encoded data removed]",
      "text/plain": [
       "<Figure size 640x480 with 1 Axes>"
      ]
     },
     "metadata": {},
     "output_type": "display_data"
    }
   ],
   "source": [
    "mses = np.zeros(centers.shape[0])\n",
    "for i,center in enumerate(centers):\n",
    "    questions = pairs[i][1]\n",
    "    sq_errors = np.array(\n",
    "        [(np.linalg.norm(center - question))**2 for question in questions]\n",
    "    )\n",
    "    mses[i] = np.average(sq_errors)\n",
    "\n",
    "#plot variations\n",
    "fig, ax = plt.subplots()\n",
    "ax.bar([f'Conversation {i}' for i in range(centers.shape[0])],height=mses)\n",
    "plt.setp(ax.get_xticklabels(),rotation = 45,ha = 'right', va = 'center', rotation_mode = 'anchor')\n",
    "ax.set_title('MSD Between Conversation Centroid and Questions')\n"
   ]
  }
 ],
 "metadata": {
  "kernelspec": {
   "display_name": "cache",
   "language": "python",
   "name": "python3"
  },
  "language_info": {
   "codemirror_mode": {
    "name": "ipython",
    "version": 3
   },
   "file_extension": ".py",
   "mimetype": "text/x-python",
   "name": "python",
   "nbconvert_exporter": "python",
   "pygments_lexer": "ipython3",
   "version": "3.8.19"
  }
 },
 "nbformat": 4,
 "nbformat_minor": 2
}
